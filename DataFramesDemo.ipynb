{
 "nbformat": 4,
 "nbformat_minor": 0,
 "metadata": {
  "colab": {
   "provenance": []
  },
  "kernelspec": {
   "name": "python3",
   "display_name": "Python 3"
  },
  "language_info": {
   "name": "python"
  }
 },
 "cells": [
  {
   "cell_type": "markdown",
   "source": [
    "##Data Cleaning and Manipulation\n",
    "\n",
    "Data cleaning and manipulation are essential steps in the data science pipeline to prepare datasets for analysis and modeling. The Python library Pandas, which provides the DataFrame object, is the most popular and powerful tool for these tasks.\n",
    "Getting started with Pandas\n",
    "First, you need to import the library and create a DataFrame.\n",
    "python\n"
   ],
   "metadata": {
    "id": "QOhp3gzDc-1E"
   }
  },
  {
   "cell_type": "code",
   "source": [
    "import pandas as pd\n",
    "import numpy as np\n",
    "\n",
    "# Create a sample DataFrame\n",
    "data = {'Name': ['Alice', 'Bob', 'Charlie', 'David', 'Alice'],\n",
    "        'Age': [25, 30, np.nan, 28, 25],\n",
    "        'City': ['New York', 'Los Angeles', 'Chicago', 'New York', 'New York'],\n",
    "        'Salary': [85000, 80000, 95000, 75000, 85000]}\n",
    "df = pd.DataFrame(data)\n",
    "\n",
    "print(\"Original DataFrame:\")\n",
    "print(df)"
   ],
   "metadata": {
    "colab": {
     "base_uri": "https://localhost:8080/"
    },
    "id": "PGz7YKQQdGvc",
    "outputId": "c1425be4-0c6d-4544-a648-19f18827303d"
   },
   "execution_count": null,
   "outputs": [
    {
     "output_type": "stream",
     "name": "stdout",
     "text": [
      "Original DataFrame:\n",
      "      Name   Age         City  Salary\n",
      "0    Alice  25.0     New York   85000\n",
      "1      Bob  30.0  Los Angeles   80000\n",
      "2  Charlie   NaN      Chicago   95000\n",
      "3    David  28.0     New York   75000\n",
      "4    Alice  25.0     New York   85000\n"
     ]
    }
   ]
  },
  {
   "cell_type": "markdown",
   "source": [
    "##Data cleaning techniques\n",
    "1. Handling missing values\n",
    "\n",
    "Missing values, often represented as NaN, are common in real-world data and can be handled in several ways.\n",
    "Identifying missing values: Use the isnull() method to find missing values and sum() to count them.\n",
    "python\n"
   ],
   "metadata": {
    "id": "UH9bimSrdOMr"
   }
  },
  {
   "cell_type": "code",
   "source": [
    "print(\"\\nMissing values per column:\")\n",
    "print(df.isnull().sum())"
   ],
   "metadata": {
    "colab": {
     "base_uri": "https://localhost:8080/"
    },
    "id": "o6hkxjHXdWoJ",
    "outputId": "e573505f-20e2-41aa-d708-ccf559c0c0c8"
   },
   "execution_count": null,
   "outputs": [
    {
     "output_type": "stream",
     "name": "stdout",
     "text": [
      "\n",
      "Missing values per column:\n",
      "Name      0\n",
      "Age       1\n",
      "City      0\n",
      "Salary    0\n",
      "dtype: int64\n"
     ]
    }
   ]
  },
  {
   "cell_type": "markdown",
   "source": [
    "Dropping rows with missing values: Use dropna() to remove any rows containing missing data.\n",
    "python\n"
   ],
   "metadata": {
    "id": "gGU0slCndbJ0"
   }
  },
  {
   "cell_type": "code",
   "source": [
    "df_dropped = df.dropna()\n",
    "print(\"\\nDataFrame after dropping rows with NaN:\")\n",
    "print(df_dropped)"
   ],
   "metadata": {
    "colab": {
     "base_uri": "https://localhost:8080/"
    },
    "id": "Pge8s5y3dgJO",
    "outputId": "5fb6fda4-9e4a-4b70-9a63-443760e9dba5"
   },
   "execution_count": null,
   "outputs": [
    {
     "output_type": "stream",
     "name": "stdout",
     "text": [
      "\n",
      "DataFrame after dropping rows with NaN:\n",
      "    Name   Age         City  Salary\n",
      "0  Alice  25.0     New York   85000\n",
      "1    Bob  30.0  Los Angeles   80000\n",
      "3  David  28.0     New York   75000\n",
      "4  Alice  25.0     New York   85000\n"
     ]
    }
   ]
  },
  {
   "cell_type": "markdown",
   "source": [
    "Filling missing values: Use fillna() to replace missing values with a specified value, like the mean, median, or a constant.\n",
    "python\n"
   ],
   "metadata": {
    "id": "uMn820rBdkdV"
   }
  },
  {
   "cell_type": "code",
   "source": [
    "df['Age'] = df['Age'].fillna(df['Age'].mean())\n",
    "print(\"\\nDataFrame after filling NaN ages with the mean:\")\n",
    "print(df)"
   ],
   "metadata": {
    "colab": {
     "base_uri": "https://localhost:8080/"
    },
    "id": "uwCRvZQWdoea",
    "outputId": "0dfb7f23-4027-4eb5-d1bb-7ff7e85842c7"
   },
   "execution_count": null,
   "outputs": [
    {
     "output_type": "stream",
     "name": "stdout",
     "text": [
      "\n",
      "DataFrame after filling NaN ages with the mean:\n",
      "      Name   Age         City  Salary\n",
      "0    Alice  25.0     New York   85000\n",
      "1      Bob  30.0  Los Angeles   80000\n",
      "2  Charlie  27.0      Chicago   95000\n",
      "3    David  28.0     New York   75000\n",
      "4    Alice  25.0     New York   85000\n"
     ]
    }
   ]
  },
  {
   "cell_type": "markdown",
   "source": [
    "2. Removing duplicate data\n",
    "\n",
    "Duplicate rows can skew analysis and should be identified and removed to maintain data integrity.\n",
    "Finding duplicates: The duplicated() method returns a boolean Series indicating which rows are duplicates.\n",
    "python"
   ],
   "metadata": {
    "id": "FsSz50WwdwCq"
   }
  },
  {
   "cell_type": "code",
   "source": [
    "print(\"\\nDuplicate rows:\")\n",
    "print(df.duplicated(subset=['Name', 'Age', 'City']))\n"
   ],
   "metadata": {
    "colab": {
     "base_uri": "https://localhost:8080/"
    },
    "id": "ovXWGsY5dzex",
    "outputId": "c72db095-1659-48b0-fed1-bc3e77804846"
   },
   "execution_count": null,
   "outputs": [
    {
     "output_type": "stream",
     "name": "stdout",
     "text": [
      "\n",
      "Duplicate rows:\n",
      "0    False\n",
      "1    False\n",
      "2    False\n",
      "3    False\n",
      "4     True\n",
      "dtype: bool\n"
     ]
    }
   ]
  },
  {
   "cell_type": "markdown",
   "source": [
    "Dropping duplicates: drop_duplicates() removes duplicate rows based on all or a specific set of columns.\n",
    "python"
   ],
   "metadata": {
    "id": "bSl1Uphxd4F7"
   }
  },
  {
   "cell_type": "code",
   "source": [
    "df_unique = df.drop_duplicates()\n",
    "print(\"\\nDataFrame after dropping duplicate rows:\")\n",
    "print(df_unique)\n"
   ],
   "metadata": {
    "colab": {
     "base_uri": "https://localhost:8080/"
    },
    "id": "wtaOi-5Ed7Fp",
    "outputId": "7a5f6ec8-63e3-4265-c8da-102872a684a9"
   },
   "execution_count": null,
   "outputs": [
    {
     "output_type": "stream",
     "name": "stdout",
     "text": [
      "\n",
      "DataFrame after dropping duplicate rows:\n",
      "      Name   Age         City  Salary\n",
      "0    Alice  25.0     New York   85000\n",
      "1      Bob  30.0  Los Angeles   80000\n",
      "2  Charlie  27.0      Chicago   95000\n",
      "3    David  28.0     New York   75000\n"
     ]
    }
   ]
  },
  {
   "cell_type": "markdown",
   "source": [
    "3. Correcting data types\n",
    "\n",
    "Columns may not always have the correct data type, especially after importing from a file.\n",
    "Checking data types: The dtypes attribute shows the data type for each column.\n",
    "python\n",
    "\n"
   ],
   "metadata": {
    "id": "N4LqXtakeAEL"
   }
  },
  {
   "cell_type": "code",
   "source": [
    "print(\"\\nInitial data types:\")\n",
    "print(df.dtypes)"
   ],
   "metadata": {
    "colab": {
     "base_uri": "https://localhost:8080/"
    },
    "id": "lcXCBMtReDyL",
    "outputId": "08de9392-47e0-4694-fa30-21cca8687761"
   },
   "execution_count": null,
   "outputs": [
    {
     "output_type": "stream",
     "name": "stdout",
     "text": [
      "\n",
      "Initial data types:\n",
      "Name       object\n",
      "Age       float64\n",
      "City       object\n",
      "Salary      int64\n",
      "dtype: object\n"
     ]
    }
   ]
  },
  {
   "cell_type": "markdown",
   "source": [
    "Converting data types: Use astype() to cast a column to a different type, such as converting a numeric column stored as an object to an integer or float.\n",
    "python\n"
   ],
   "metadata": {
    "id": "BD_jtfs-eKJ6"
   }
  },
  {
   "cell_type": "code",
   "source": [
    "# For example, we could convert salary to float\n",
    "df['Salary'] = df['Salary'].astype(float)\n",
    "print(df)"
   ],
   "metadata": {
    "colab": {
     "base_uri": "https://localhost:8080/"
    },
    "id": "NqErGhmIeNsg",
    "outputId": "d8647dca-d086-43ee-cbb3-bfdc5168ae6a"
   },
   "execution_count": null,
   "outputs": [
    {
     "output_type": "stream",
     "name": "stdout",
     "text": [
      "      Name   Age         City   Salary\n",
      "0    Alice  25.0     New York  85000.0\n",
      "1      Bob  30.0  Los Angeles  80000.0\n",
      "2  Charlie  27.0      Chicago  95000.0\n",
      "3    David  28.0     New York  75000.0\n",
      "4    Alice  25.0     New York  85000.0\n"
     ]
    }
   ]
  },
  {
   "cell_type": "markdown",
   "source": [
    "##Data manipulation techniques\n",
    "\n",
    "1. Selecting and filtering data\n",
    "\n",
    "Selecting specific data is one of the most common DataFrame operations.\n",
    "Selecting columns: Access one or more columns using single or double brackets.\n",
    "python"
   ],
   "metadata": {
    "id": "dFA7oSfoefVM"
   }
  },
  {
   "cell_type": "code",
   "source": [
    "print(\"\\nSelecting a single column ('Name'):\")\n",
    "print(df['Name'])\n",
    "\n",
    "print(\"\\nSelecting multiple columns ('Name' and 'Salary'):\")\n",
    "print(df[['Name', 'Salary']])"
   ],
   "metadata": {
    "colab": {
     "base_uri": "https://localhost:8080/"
    },
    "id": "LoNMqfaqeiHF",
    "outputId": "09fc102e-dfce-441b-99c4-b195435571e1"
   },
   "execution_count": null,
   "outputs": [
    {
     "output_type": "stream",
     "name": "stdout",
     "text": [
      "\n",
      "Selecting a single column ('Name'):\n",
      "0      Alice\n",
      "1        Bob\n",
      "2    Charlie\n",
      "3      David\n",
      "4      Alice\n",
      "Name: Name, dtype: object\n",
      "\n",
      "Selecting multiple columns ('Name' and 'Salary'):\n",
      "      Name   Salary\n",
      "0    Alice  85000.0\n",
      "1      Bob  80000.0\n",
      "2  Charlie  95000.0\n",
      "3    David  75000.0\n",
      "4    Alice  85000.0\n"
     ]
    }
   ]
  },
  {
   "cell_type": "markdown",
   "source": [
    "Filtering rows: Use boolean indexing to filter rows based on a condition.\n",
    "python\n"
   ],
   "metadata": {
    "id": "ShlMmuP5etd2"
   }
  },
  {
   "cell_type": "code",
   "source": [
    "# Filter for all employees older than 28\n",
    "older_employees = df[df['Age'] > 28]\n",
    "print(\"\\nEmployees older than 28:\")\n",
    "print(older_employees)\n"
   ],
   "metadata": {
    "colab": {
     "base_uri": "https://localhost:8080/"
    },
    "id": "pdB9x07OeyI4",
    "outputId": "6f5d2bde-871e-4809-ef02-162915b25120"
   },
   "execution_count": null,
   "outputs": [
    {
     "output_type": "stream",
     "name": "stdout",
     "text": [
      "\n",
      "Employees older than 28:\n",
      "  Name   Age         City   Salary\n",
      "1  Bob  30.0  Los Angeles  80000.0\n"
     ]
    }
   ]
  },
  {
   "cell_type": "markdown",
   "source": [
    "2. Creating new columns\n",
    "\n",
    "You can add new columns based on existing data.\n",
    "Creating a new column from calculations:\n",
    "python\n"
   ],
   "metadata": {
    "id": "SMmz71Nee1xw"
   }
  },
  {
   "cell_type": "code",
   "source": [
    "df['Salary_in_thousands'] = df['Salary'] / 1000\n",
    "print(\"\\nDataFrame with new 'Salary_in_thousands' column:\")\n",
    "print(df)\n"
   ],
   "metadata": {
    "colab": {
     "base_uri": "https://localhost:8080/"
    },
    "id": "ckQCt0yGe3ss",
    "outputId": "b5fe8182-3f61-45d7-b490-b29305c3c039"
   },
   "execution_count": null,
   "outputs": [
    {
     "output_type": "stream",
     "name": "stdout",
     "text": [
      "\n",
      "DataFrame with new 'Salary_in_thousands' column:\n",
      "      Name   Age         City   Salary  Salary_in_thousands\n",
      "0    Alice  25.0     New York  85000.0                 85.0\n",
      "1      Bob  30.0  Los Angeles  80000.0                 80.0\n",
      "2  Charlie  27.0      Chicago  95000.0                 95.0\n",
      "3    David  28.0     New York  75000.0                 75.0\n",
      "4    Alice  25.0     New York  85000.0                 85.0\n"
     ]
    }
   ]
  },
  {
   "cell_type": "markdown",
   "source": [
    "3. Grouping and aggregating data\n",
    "\n",
    "This allows you to perform calculations on subsets of your data using the \"Split-Apply-Combine\" strategy.\n",
    "Grouping by a column: Use groupby() followed by an aggregation function like mean() or sum().\n",
    "python\n"
   ],
   "metadata": {
    "id": "Utuz_QBse7RJ"
   }
  },
  {
   "cell_type": "code",
   "source": [
    "city_salary_average = df.groupby('City')['Salary'].mean()\n",
    "print(\"\\nAverage salary by city:\")\n",
    "print(city_salary_average)\n"
   ],
   "metadata": {
    "colab": {
     "base_uri": "https://localhost:8080/"
    },
    "id": "3DAgP-HSe9UL",
    "outputId": "6eaa29a9-4a5c-4502-9754-9383740063ba"
   },
   "execution_count": null,
   "outputs": [
    {
     "output_type": "stream",
     "name": "stdout",
     "text": [
      "\n",
      "Average salary by city:\n",
      "City\n",
      "Chicago        95000.000000\n",
      "Los Angeles    80000.000000\n",
      "New York       81666.666667\n",
      "Name: Salary, dtype: float64\n"
     ]
    }
   ]
  },
  {
   "cell_type": "markdown",
   "source": [
    "4. Merging and combining DataFrames\n",
    "\n",
    "You can combine data from multiple sources using merge() or concat().\n",
    "Using merge() for join operations:\n",
    "python\n"
   ],
   "metadata": {
    "id": "cV8iUMXze_5V"
   }
  },
  {
   "cell_type": "code",
   "execution_count": null,
   "metadata": {
    "colab": {
     "base_uri": "https://localhost:8080/"
    },
    "id": "06qmCjkscLta",
    "outputId": "10ab66ac-d4cd-4843-a38f-17551e78d8a7"
   },
   "outputs": [
    {
     "output_type": "stream",
     "name": "stdout",
     "text": [
      "      Name Department\n",
      "0    Alice         HR\n",
      "1  Charlie         IT\n",
      "2      Bob         HR\n",
      "3    David       Mgmt\n",
      "\n",
      "Merged DataFrame:\n",
      "      Name   Age         City   Salary  Salary_in_thousands Department\n",
      "0    Alice  25.0     New York  85000.0                 85.0         HR\n",
      "1      Bob  30.0  Los Angeles  80000.0                 80.0         HR\n",
      "2  Charlie  27.0      Chicago  95000.0                 95.0         IT\n",
      "3    David  28.0     New York  75000.0                 75.0       Mgmt\n",
      "4    Alice  25.0     New York  85000.0                 85.0         HR\n"
     ]
    }
   ],
   "source": [
    "# Create a second DataFrame\n",
    "more_data = pd.DataFrame({'Name': ['Alice', 'Charlie', 'Bob', 'David'], 'Department': ['HR', 'IT', 'HR', 'Mgmt']})\n",
    "print(more_data)\n",
    "\n",
    "# Merge the two DataFrames on the 'Name' column\n",
    "merged_df = pd.merge(df, more_data, on='Name')\n",
    "print(\"\\nMerged DataFrame:\")\n",
    "print(merged_df)\n"
   ]
  },
  {
   "metadata": {},
   "cell_type": "markdown",
   "source": ""
  }
 ]
}
