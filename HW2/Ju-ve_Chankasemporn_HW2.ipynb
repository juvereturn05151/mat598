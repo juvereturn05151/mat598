{
 "nbformat": 4,
 "nbformat_minor": 0,
 "metadata": {
  "colab": {
   "provenance": []
  },
  "kernelspec": {
   "name": "python3",
   "display_name": "Python 3 (ipykernel)",
   "language": "python"
  },
  "language_info": {
   "name": "python"
  }
 },
 "cells": [
  {
   "cell_type": "markdown",
   "source": [
    "#Homework 2 (Numpy, Matplotlib and Metrics)}\n",
    "\n",
    "1.   Explore the posted file matrix\\_A.csv. Submit your code and solution as a jupiter notebook.\n",
    "*   Load the matrix stored in the file into a numpy array\n",
    "*   Load the first column into an array $x$ and second column into an\n",
    "array y. What are the shapes of the two vectors?\n",
    "*   Calculate the element-wise product and dot product of the two vectors.\n",
    "*   Reshape $x$ into a column vector and $y$ into a row vector and calculate\n",
    "their product. What is the shape of the result?\n",
    "*   Visualize a scatterplot of the data in the $x-y$ plane.\n",
    "* Visualize histograms of $x$ and $y$.\n",
    "* Calculate mean and standard deviations of $x$ and $y$.\n",
    "* Visualize a box plot for the given data.\n",
    "* Assuming that we know that the model that relates $x$ and $y$ is\n",
    "$y_{pred}=2x+5$ calculate the predicted values and compare it with\n",
    "$y$ by calculating MSE, MAE, and RMSE.\n",
    "\n",
    "2.   Consider the one-hot encoded output of a classification problem with\n",
    "5 classes: $obs=[0,1,0,0,0]$. Your system predicts the classification\n",
    "probabilities $pred_{1}=[0.05,0.9,0.05,0,0].$ Calculate the categorical\n",
    "cross-entropy for the given output. Consider now the prediction of\n",
    "$pred_{2}=[0,0.05,0.9,0.05,0]$ and calculate the categorical cross\n",
    "entropy for this case and compare it with the previous values.\n",
    "\n",
    "3. A small e-commerce company uses a machine learning model to detect fraudulent transactions. The model classifies a transaction as either \"Fraud\" or \"Not Fraud.\" The company has a dataset of 1000 recent transactions.\n",
    "After running the model, the data was manually reviewed and the following results were gathered:\n",
    "The model predicted 50 transactions as fraudulent.\n",
    "Of those 50 predicted fraudulent transactions, 20 were actually fraudulent.\n",
    "The model predicted 950 transactions as not fraudulent.\n",
    "Of the 950 predicted non-fraudulent transactions, 940 were actually non-fraudulent.\n",
    "* Organize these results into a confusion matrix. Then, use the matrix to calculate the following metrics for the model's performance\n",
    "* Calculate Accuracy, Precision and Recall\n",
    "* Interpret the results. Does the current model serve its purpose?"
   ],
   "metadata": {
    "id": "1PiONxcE5ITN"
   }
  },
  {
   "cell_type": "code",
   "metadata": {
    "id": "FaGotgRX4sRN",
    "ExecuteTime": {
     "end_time": "2025-09-15T19:59:12.884841Z",
     "start_time": "2025-09-15T19:59:11.732674Z"
    }
   },
   "source": [
    "import numpy as np\n",
    "import pandas as pd\n",
    "import matplotlib.pyplot as plt\n",
    "\n",
    "#Load the matrix stored in the file into a numpy array\n",
    "matrix = pd.read_csv(\"matrix_A.csv\")\n",
    "\n",
    "#Load the first column into an array and second column into an array y. What are the shapes of the two vectors?\n",
    "x = matrix.iloc[:, 0].to_numpy()\n",
    "y = matrix.iloc[:, 1].to_numpy()\n",
    "print(\"x.shape:\", x.shape)\n",
    "print(\"y.shape:\", y.shape)\n",
    "\n",
    "#Calculate the element-wise product and dot product of the two vectors.\n",
    "element_wise_product = x * y\n",
    "print(\"\\nElement-wise product (x * y):\\n\", element_wise_product)\n",
    "dot_product = np.dot(x, y)\n",
    "print(\"\\ndot product (x * y):\\n\", dot_product)\n",
    "\n",
    "#Reshape x into a column vector and into a row vector and calculate their product. What is the shape of the result?\n",
    "x_col = x.reshape(-1, 1)\n",
    "y_row = y.reshape(1,-1)\n",
    "print(\"x_col:\", x_col)\n",
    "print(\"y_row:\", y_row)\n",
    "calculated_dot_product = np.dot(x_col, y_row)\n",
    "print(\"\\ncalculated dot product (x * y):\\n\", calculated_dot_product)\n",
    "print(\"calculated_dot_product.shape:\", calculated_dot_product.shape)\n",
    "\n",
    "#Visualize a scatterplot of the data in the x-y plane.\n",
    "plt.scatter(x_col, y_row)\n",
    "plt.show()\n",
    "\n",
    "#Visualize histograms of x and y.\n",
    "plt.hist(x)\n",
    "plt.show()\n",
    "plt.hist(y)\n",
    "plt.show()\n",
    "\n",
    "#Calculate mean and standard deviations of x and y.\n",
    "print(\"Mean x:\", np.mean(x))\n",
    "print(\"Mean y:\", np.mean(y))\n",
    "print(\"Standard deviation x:\", np.std(x))\n",
    "print(\"Standard deviation y:\", np.std(y))\n",
    "\n",
    "#Visualize a box plot for the given data.\n",
    "plt.boxplot(x)\n",
    "plt.show()\n",
    "plt.boxplot(y)\n",
    "plt.show()\n",
    "\n",
    "#Assuming that we know that the model that relates x and ypred = 2x+5 is\n",
    "# calculate the predicted values and compare it with\n",
    "# y by calculating MSE, MAE, and RMSE.\n",
    "y_pred = 2 * x + 5\n",
    "mse = np.mean((y_pred - y) ** 2)\n",
    "print(\"MSE:\", mse)\n",
    "\n",
    "mae = np.mean(np.abs(y_pred - y))\n",
    "print(\"MAE:\", mae)\n",
    "\n",
    "rmse = np.sqrt(mse)\n",
    "print(\"RMSE:\", rmse)"
   ],
   "outputs": [
    {
     "name": "stdout",
     "output_type": "stream",
     "text": [
      "x.shape: (49,)\n",
      "y.shape: (49,)\n",
      "\n",
      "Element-wise product (x * y):\n",
      " [5.27027590e-01 1.77232417e-01 2.56649345e-02 9.70951917e-01\n",
      " 8.94417070e+00 8.62501777e-01 1.41477724e+01 1.84967763e+01\n",
      " 2.09070917e+01 1.69197782e+01 1.22374577e+01 3.03604635e+01\n",
      " 3.75944511e+01 3.07074065e+01 3.46258184e+01 4.65716627e+01\n",
      " 2.67015504e+01 3.67073708e+01 5.58398829e+01 5.90463581e+01\n",
      " 5.22186742e+01 6.03185005e+01 7.10757592e+01 4.47206985e+01\n",
      " 9.52780249e+01 8.74660798e+01 5.99704342e+01 6.00792668e+01\n",
      " 1.19856198e+02 1.37290462e+02 1.02442269e+02 9.15394433e+01\n",
      " 1.32042888e+02 1.06053623e+02 1.91317288e+02 1.63846896e+02\n",
      " 1.07962479e+02 1.78484767e+02 1.42651546e+02 1.93493327e+02\n",
      " 1.91958774e+02 1.45045857e+02 2.36036791e+02 1.79042235e+02\n",
      " 1.82024844e+02 2.26835198e+02 2.34537379e+02 2.25413724e+02\n",
      " 2.64708091e+02]\n",
      "\n",
      "dot product (x * y):\n",
      " 4536.082909853635\n",
      "x_col: [[5.32063355e-02]\n",
      " [6.27700794e-02]\n",
      " [4.00462953e-03]\n",
      " [2.44631098e-01]\n",
      " [1.17315269e+00]\n",
      " [2.82390141e-01]\n",
      " [1.65850554e+00]\n",
      " [2.02008353e+00]\n",
      " [2.14762630e+00]\n",
      " [2.05584069e+00]\n",
      " [1.70791252e+00]\n",
      " [2.76356440e+00]\n",
      " [3.06974318e+00]\n",
      " [3.08581519e+00]\n",
      " [3.00230158e+00]\n",
      " [3.13064056e+00]\n",
      " [2.49503089e+00]\n",
      " [3.15962057e+00]\n",
      " [3.96679920e+00]\n",
      " [4.05554266e+00]\n",
      " [3.90611133e+00]\n",
      " [3.56814740e+00]\n",
      " [5.11472750e+00]\n",
      " [4.38943723e+00]\n",
      " [5.56340557e+00]\n",
      " [5.45761323e+00]\n",
      " [5.46338708e+00]\n",
      " [4.64378431e+00]\n",
      " [6.04361052e+00]\n",
      " [6.39129082e+00]\n",
      " [5.59644493e+00]\n",
      " [6.02211359e+00]\n",
      " [7.37041079e+00]\n",
      " [6.21925851e+00]\n",
      " [8.49418166e+00]\n",
      " [7.76226553e+00]\n",
      " [7.06460434e+00]\n",
      " [8.00667435e+00]\n",
      " [7.71093033e+00]\n",
      " [8.39433877e+00]\n",
      " [8.58546425e+00]\n",
      " [7.57284583e+00]\n",
      " [9.32620959e+00]\n",
      " [8.93106970e+00]\n",
      " [9.03055479e+00]\n",
      " [9.29194463e+00]\n",
      " [9.75652581e+00]\n",
      " [9.22814427e+00]\n",
      " [1.05741151e+01]]\n",
      "y_row: [[ 9.90535403  2.82351749  6.40881616  3.96904533  7.62404654  3.05429139\n",
      "   8.53043424  9.15644131  9.73497657  8.23010183  7.1651549  10.98598012\n",
      "  12.24677406  9.95114892 11.53309137 14.87608104 10.7018917  11.61765155\n",
      "  14.07681106 14.55942224 13.36845519 16.90471094 13.89629442 10.18825334\n",
      "  17.12584563 16.02643429 10.97678661 12.93756618 19.83188659 21.48086602\n",
      "  18.30488298 15.20055074 17.91526847 17.05245455 22.52333375 21.10812823\n",
      "  15.28216926 22.29199786 18.49991377 23.05045483 22.35857828 19.15341476\n",
      "  25.30897348 20.04712101 20.15655169 24.41202642 24.0390261  24.42676636\n",
      "  25.03359268]]\n",
      "\n",
      "calculated dot product (x * y):\n",
      " [[5.27027590e-01 1.50229019e-01 3.40989623e-01 ... 1.27902849e+00\n",
      "  1.29965873e+00 1.33194573e+00]\n",
      " [6.21759859e-01 1.77232417e-01 4.02281899e-01 ... 1.50893158e+00\n",
      "  1.53327006e+00 1.57136060e+00]\n",
      " [3.96672733e-02 1.13071415e-02 2.56649345e-02 ... 9.62673939e-02\n",
      "  9.78201499e-02 1.00250265e-01]\n",
      " ...\n",
      " [9.66418422e+01 2.75477212e+01 6.25277803e+01 ... 2.34537379e+02\n",
      "  2.38320376e+02 2.44240893e+02]\n",
      " [9.14080361e+01 2.60558267e+01 5.91414802e+01 ... 2.21835601e+02\n",
      "  2.25413724e+02 2.31013605e+02]\n",
      " [1.04740354e+02 2.98561989e+01 6.77675599e+01 ... 2.54191429e+02\n",
      "  2.58291439e+02 2.64708091e+02]]\n",
      "calculated_dot_product.shape: (49, 49)\n"
     ]
    },
    {
     "data": {
      "text/plain": [
       "<Figure size 640x480 with 1 Axes>"
      ],
      "image/png": "[encoded data removed]"
     },
     "metadata": {},
     "output_type": "display_data",
     "jetTransient": {
      "display_id": null
     }
    },
    {
     "data": {
      "text/plain": [
       "<Figure size 640x480 with 1 Axes>"
      ],
      "image/png": "[encoded data removed]"
     },
     "metadata": {},
     "output_type": "display_data",
     "jetTransient": {
      "display_id": null
     }
    },
    {
     "data": {
      "text/plain": [
       "<Figure size 640x480 with 1 Axes>"
      ],
      "image/png": "[encoded data removed]"
     },
     "metadata": {},
     "output_type": "display_data",
     "jetTransient": {
      "display_id": null
     }
    },
    {
     "name": "stdout",
     "output_type": "stream",
     "text": [
      "Mean x: 5.012628440025663\n",
      "Mean y: 15.021496658350149\n",
      "Standard deviation x: 2.9980500004805988\n",
      "Standard deviation y: 6.110204931465727\n"
     ]
    },
    {
     "data": {
      "text/plain": [
       "<Figure size 640x480 with 1 Axes>"
      ],
      "image/png": "[encoded data removed]"
     },
     "metadata": {},
     "output_type": "display_data",
     "jetTransient": {
      "display_id": null
     }
    },
    {
     "data": {
      "text/plain": [
       "<Figure size 640x480 with 1 Axes>"
      ],
      "image/png": "[encoded data removed]"
     },
     "metadata": {},
     "output_type": "display_data",
     "jetTransient": {
      "display_id": null
     }
    },
    {
     "name": "stdout",
     "output_type": "stream",
     "text": [
      "MSE: 4.18407667385645\n",
      "MAE: 1.589465323635409\n",
      "RMSE: 2.045501570240524\n"
     ]
    }
   ],
   "execution_count": 1
  },
  {
   "metadata": {
    "ExecuteTime": {
     "end_time": "2025-09-15T19:59:17.316935Z",
     "start_time": "2025-09-15T19:59:17.300938Z"
    }
   },
   "cell_type": "code",
   "source": [
    "import numpy as np\n",
    "\n",
    "obs = np.array([0, 1, 0, 0, 0])\n",
    "pred_1 = np.array([0.05, 0.9, 0.05, 0, 0])\n",
    "\n",
    "cat_cross_entropy_1 = -np.sum(obs * np.log(pred_1 + 1e-15))\n",
    "print(\"cat_cross_entropy_1:\", cat_cross_entropy_1)\n",
    "\n",
    "pred_2 = np.array([0.0, 0.05, 0.9, 0.05, 0])\n",
    "\n",
    "cat_cross_entropy_2 = -np.sum(obs * np.log(pred_1 + 1e-15))\n",
    "print(\"cat_cross_entropy_2:\", cat_cross_entropy_2)\n",
    "\n"
   ],
   "outputs": [
    {
     "name": "stdout",
     "output_type": "stream",
     "text": [
      "cat_cross_entropy_1: 0.10536051565782517\n",
      "cat_cross_entropy_2: 0.10536051565782517\n"
     ]
    }
   ],
   "execution_count": 2
  },
  {
   "metadata": {
    "ExecuteTime": {
     "end_time": "2025-09-15T19:59:21.678242Z",
     "start_time": "2025-09-15T19:59:21.657244Z"
    }
   },
   "cell_type": "code",
   "source": [
    "import numpy as np\n",
    "\n",
    "#Company has 1000 recent transactions\n",
    "#predict 50 transactions are fraudulent\n",
    "#out of 50, 20 are actually fraudulent\n",
    "#predict 950 as non-fraudulent\n",
    "#out of 950, 940 are actually non-fraudulent\n",
    "\n",
    " # 1 = fraud\n",
    " # 0 = non-fraud\n",
    " #                          predicted\n",
    " #                          1(50)          0(950)\n",
    " #\n",
    " #        1(20)             20             10\n",
    " # Actual\n",
    " #        0(940)            30             940\n",
    " #\n",
    "\n",
    "tp = 20\n",
    "fp = 30\n",
    "fn = 10\n",
    "tn = 940\n",
    "\n",
    "precision = tp / (tp + fp)\n",
    "recall = tp / (tp + fn)\n",
    "accuracy = (tp + tn) / (tp + fp + fn + tn)\n",
    "print(\"precision:\", precision)\n",
    "print(\"recall:\", recall)\n",
    "print(\"accuracy:\", accuracy)\n",
    "\n",
    "f1_score = 2 * precision * recall / (precision + recall)\n",
    "print(\"F1 score:\", f1_score)\n",
    "\n",
    "print(\"the model is quite balance since the F1 between catching fraud and avoiding false alarms\")"
   ],
   "outputs": [
    {
     "name": "stdout",
     "output_type": "stream",
     "text": [
      "precision: 0.4\n",
      "recall: 0.6666666666666666\n",
      "accuracy: 0.96\n",
      "F1 score: 0.5\n",
      "the model is quite balance since the F1 between catching fraud and avoiding false alarms\n"
     ]
    }
   ],
   "execution_count": 4
  },
  {
   "metadata": {},
   "cell_type": "code",
   "outputs": [],
   "execution_count": null,
   "source": ""
  }
 ]
}
