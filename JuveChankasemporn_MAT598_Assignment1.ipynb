{
  "cells": [
    {
      "cell_type": "raw",
      "metadata": {
        "id": "mZrEOoxpYTiP"
      },
      "source": [
        "Assignment#1"
      ]
    },
    {
      "cell_type": "markdown",
      "metadata": {
        "id": "OfZSOkH0YTiP"
      },
      "source": [
        "#### Exercise 1:\n",
        "Based on the discussion in class describe a problem where you could use the data science lifecycle to predict a variable.\n",
        "a) Formulate the problem (short statement and description).\n",
        "b) Describe what kind of data you think could be collected for the solution. What are the inputs (features) and what are the inputs that you want to predict (labels).\n",
        "c) Explain if you forsee any issues with the data.\n",
        "d) Explain how would you treat missing or bad data.\n",
        "e) What should be done to make sure that your dataset is balanced?\n"
      ]
    },
    {
      "cell_type": "markdown",
      "metadata": {
        "id": "EozpowQ9YTiQ"
      },
      "source": [
        "Exercise 1 solution:\n",
        "a) Formulate the problem (short statement and description).\n",
        "In sports teams, especially soccer, avoiding injuries is crucial for maintaining performance.\n",
        "As a data scientist, my goal is to predict whether a player will get injured or not.\n",
        "\n",
        "b) Describe what kind of data you think could be collected for the solution. What are the inputs (features) and what are the inputs that you want to predict (labels).\n",
        "\n",
        "Inputs (features):\n",
        "-Number of days the player is injured in a year\n",
        "-Number of times the player has been injured in a year\n",
        "-Average minutes the player plays in a match\n",
        "-Number of physical contacts the player has in a match\n",
        "-Player’s fitness level\n",
        "\n",
        "Output (label):\n",
        "-The probability that the player will get injured if he plays at least 20 full matches (90 minutes each) in a season.\n",
        "\n",
        "c) Explain if you foresee any issues with the data.\n",
        "We may not know if the player has hidden medical conditions. The medical team might also fail to detect certain fitness issues even if they exist. In addition, the number of hours a player trains in the gym, along with records of private training or other physical activities, may not be captured. These missing factors could also contribute to injuries.\n",
        "\n",
        "d) Explain how you would treat missing or bad data.\n",
        "If any data is missing, I would fill it with the average value.\n",
        "For bad data, such as a record showing that a player was injured 1,000 times in a year (which is unrealistic), I would clip it and treat it as if the player was always injured.\n",
        "\n",
        "e) What should be done to make sure that your dataset is balanced?\n",
        "To make sure the dataset is balanced, we should ensure that we have enough examples of both injured and non-injured players.\n"
      ]
    },
    {
      "cell_type": "markdown",
      "metadata": {
        "id": "SfJpWE9TYTiQ"
      },
      "source": [
        "#### Exercise 2:\n",
        "Write code (different than the ones in the class notebooks) and <u>intentionally</u> generate errors to receive:\n",
        "- TypeError\n",
        "- SyntaxError\n",
        "- NameError\n",
        "- ZeroDivisionError"
      ]
    },
    {
      "cell_type": "code",
      "execution_count": 1,
      "metadata": {
        "colab": {
          "base_uri": "https://localhost:8080/",
          "height": 176
        },
        "id": "xJRHK5p3YTiQ",
        "outputId": "a969d2ed-0612-437f-b6dd-1a257763359b"
      },
      "outputs": [
        {
          "output_type": "error",
          "ename": "TypeError",
          "evalue": "unsupported operand type(s) for +: 'int' and 'str'",
          "traceback": [
            "\u001b[0;31m---------------------------------------------------------------------------\u001b[0m",
            "\u001b[0;31mTypeError\u001b[0m                                 Traceback (most recent call last)",
            "\u001b[0;32m/tmp/ipython-input-3046122553.py\u001b[0m in \u001b[0;36m<cell line: 0>\u001b[0;34m()\u001b[0m\n\u001b[1;32m      2\u001b[0m \u001b[0mi\u001b[0m \u001b[0;34m=\u001b[0m \u001b[0;36m27\u001b[0m\u001b[0;34m\u001b[0m\u001b[0;34m\u001b[0m\u001b[0m\n\u001b[1;32m      3\u001b[0m \u001b[0mj\u001b[0m \u001b[0;34m=\u001b[0m \u001b[0;34m'juve'\u001b[0m\u001b[0;34m\u001b[0m\u001b[0;34m\u001b[0m\u001b[0m\n\u001b[0;32m----> 4\u001b[0;31m \u001b[0mi\u001b[0m \u001b[0;34m=\u001b[0m \u001b[0mi\u001b[0m \u001b[0;34m+\u001b[0m \u001b[0mj\u001b[0m\u001b[0;34m\u001b[0m\u001b[0;34m\u001b[0m\u001b[0m\n\u001b[0m",
            "\u001b[0;31mTypeError\u001b[0m: unsupported operand type(s) for +: 'int' and 'str'"
          ]
        }
      ],
      "source": [
        "# Exercise 2 code - TypeError:\n",
        "i = 27\n",
        "j = 'juve'\n",
        "i = i + j\n"
      ]
    },
    {
      "cell_type": "code",
      "execution_count": 2,
      "metadata": {
        "colab": {
          "base_uri": "https://localhost:8080/",
          "height": 106
        },
        "id": "g3Q82b0-YTiR",
        "outputId": "a39e6da3-f36f-4d8e-faaf-46c253d6a7ab"
      },
      "outputs": [
        {
          "output_type": "error",
          "ename": "SyntaxError",
          "evalue": "incomplete input (ipython-input-4186014610.py, line 2)",
          "traceback": [
            "\u001b[0;36m  File \u001b[0;32m\"/tmp/ipython-input-4186014610.py\"\u001b[0;36m, line \u001b[0;32m2\u001b[0m\n\u001b[0;31m    print('meow'\u001b[0m\n\u001b[0m                ^\u001b[0m\n\u001b[0;31mSyntaxError\u001b[0m\u001b[0;31m:\u001b[0m incomplete input\n"
          ]
        }
      ],
      "source": [
        "# Exercise 2 code - SyntaxError:\n",
        "print('meow'\n"
      ]
    },
    {
      "cell_type": "code",
      "execution_count": 3,
      "metadata": {
        "colab": {
          "base_uri": "https://localhost:8080/",
          "height": 158
        },
        "id": "7PNtTWZRYTiR",
        "outputId": "b12844c3-ffa6-479d-c071-6a64002ff584"
      },
      "outputs": [
        {
          "output_type": "error",
          "ename": "NameError",
          "evalue": "name 'go' is not defined",
          "traceback": [
            "\u001b[0;31m---------------------------------------------------------------------------\u001b[0m",
            "\u001b[0;31mNameError\u001b[0m                                 Traceback (most recent call last)",
            "\u001b[0;32m/tmp/ipython-input-1108673557.py\u001b[0m in \u001b[0;36m<cell line: 0>\u001b[0;34m()\u001b[0m\n\u001b[1;32m      1\u001b[0m \u001b[0;31m# Exercise 2 code - NameError:\u001b[0m\u001b[0;34m\u001b[0m\u001b[0;34m\u001b[0m\u001b[0m\n\u001b[0;32m----> 2\u001b[0;31m \u001b[0mgo\u001b[0m\u001b[0;34m(\u001b[0m\u001b[0mjuve\u001b[0m\u001b[0;34m)\u001b[0m\u001b[0;34m\u001b[0m\u001b[0;34m\u001b[0m\u001b[0m\n\u001b[0m",
            "\u001b[0;31mNameError\u001b[0m: name 'go' is not defined"
          ]
        }
      ],
      "source": [
        "# Exercise 2 code - NameError:\n",
        "go(juve)\n"
      ]
    },
    {
      "cell_type": "code",
      "execution_count": 4,
      "metadata": {
        "colab": {
          "base_uri": "https://localhost:8080/",
          "height": 158
        },
        "id": "fg8O8yZRYTiR",
        "outputId": "7a3fd5fe-f494-4726-fc09-476c2719c29f"
      },
      "outputs": [
        {
          "output_type": "error",
          "ename": "ZeroDivisionError",
          "evalue": "division by zero",
          "traceback": [
            "\u001b[0;31m---------------------------------------------------------------------------\u001b[0m",
            "\u001b[0;31mZeroDivisionError\u001b[0m                         Traceback (most recent call last)",
            "\u001b[0;32m/tmp/ipython-input-4141119750.py\u001b[0m in \u001b[0;36m<cell line: 0>\u001b[0;34m()\u001b[0m\n\u001b[1;32m      1\u001b[0m \u001b[0;31m# Exercise 2 code - ZeroDivision:\u001b[0m\u001b[0;34m\u001b[0m\u001b[0;34m\u001b[0m\u001b[0m\n\u001b[0;32m----> 2\u001b[0;31m \u001b[0;36m1\u001b[0m\u001b[0;34m/\u001b[0m\u001b[0;36m0\u001b[0m\u001b[0;34m\u001b[0m\u001b[0;34m\u001b[0m\u001b[0m\n\u001b[0m",
            "\u001b[0;31mZeroDivisionError\u001b[0m: division by zero"
          ]
        }
      ],
      "source": [
        "# Exercise 2 code - ZeroDivision:\n",
        "1/0\n"
      ]
    },
    {
      "cell_type": "markdown",
      "metadata": {
        "id": "GuondHvvYTiR"
      },
      "source": [
        "#### Exercise 3:\n",
        "Create a function:\n",
        "- takes two numbers (x and y) as arguments\n",
        "- prints x - y\n",
        "\n",
        "For example passing 3 and 5 will display:\n",
        "-2"
      ]
    },
    {
      "cell_type": "code",
      "execution_count": 6,
      "metadata": {
        "colab": {
          "base_uri": "https://localhost:8080/"
        },
        "id": "H36XRONXYTiS",
        "outputId": "f0f2205d-4a1d-405a-8338-8d3c4b3a2a2e"
      },
      "outputs": [
        {
          "output_type": "stream",
          "name": "stdout",
          "text": [
            "4\n"
          ]
        }
      ],
      "source": [
        "# Exercise 3 code:\n",
        "def minus(x,y):\n",
        "  print(x-y)\n",
        "\n",
        "minus(11,7)\n"
      ]
    },
    {
      "cell_type": "markdown",
      "metadata": {
        "id": "gUCU5lX6YTiS"
      },
      "source": [
        "#### Excercise 4:\n",
        "- Assign a positive whole number to x between 1 and 9999\n",
        "- **Use nested conditions** and print a statement in **one line**\n",
        "    - stating how many digits the number x has\n",
        "    - stating whether the number x is even or odd\n",
        "- Example: \"200 is a 3 digit even number\""
      ]
    },
    {
      "cell_type": "code",
      "execution_count": 55,
      "metadata": {
        "colab": {
          "base_uri": "https://localhost:8080/"
        },
        "id": "5LG8QiOrYTiS",
        "outputId": "b94f2d98-76dc-4a35-cc38-b0467e2f458e"
      },
      "outputs": [
        {
          "output_type": "stream",
          "name": "stdout",
          "text": [
            "9999 is a 4 digit odd number\n"
          ]
        }
      ],
      "source": [
        "# Excercise 4 code:\n",
        "def number_evaluater(x):\n",
        "  if(x < 1 or x > 9999):\n",
        "    return 'number is out of range'\n",
        "\n",
        "  evenorodd = ''\n",
        "  if(x % 2 == 0):\n",
        "    evenorodd = 'even number'\n",
        "  else:\n",
        "    evenorodd = 'odd number'\n",
        "  num_digits = len(str(x))\n",
        "\n",
        "  print(str(x) + ' is a ' + str(num_digits) + ' digit ' + evenorodd)\n",
        "\n",
        "\n",
        "number_evaluater(9999)"
      ]
    },
    {
      "cell_type": "markdown",
      "metadata": {
        "id": "odmcb3z1YTiS"
      },
      "source": [
        "#### Excercise 5:\n",
        "Use loops to print below:"
      ]
    },
    {
      "cell_type": "code",
      "execution_count": 7,
      "metadata": {
        "colab": {
          "base_uri": "https://localhost:8080/",
          "height": 106
        },
        "id": "7W9I164nYTiS",
        "outputId": "2344d207-dc89-49f1-f16a-d2c294d9f7c4"
      },
      "outputs": [
        {
          "output_type": "error",
          "ename": "SyntaxError",
          "evalue": "invalid syntax (ipython-input-3574744540.py, line 1)",
          "traceback": [
            "\u001b[0;36m  File \u001b[0;32m\"/tmp/ipython-input-3574744540.py\"\u001b[0;36m, line \u001b[0;32m1\u001b[0m\n\u001b[0;31m    0 0 0 0 0 0 0 0 0 0\u001b[0m\n\u001b[0m      ^\u001b[0m\n\u001b[0;31mSyntaxError\u001b[0m\u001b[0;31m:\u001b[0m invalid syntax\n"
          ]
        }
      ],
      "source": [
        "0 0 0 0 0 0 0 0 0 0\n",
        "1 1 1 1 1 1 1 1 1\n",
        "2 2 2 2 2 2 2 2\n",
        "3 3 3 3 3 3 3\n",
        "4 4 4 4 4 4\n",
        "5 5 5 5 5\n",
        "6 6 6 6\n",
        "7 7 7\n",
        "8 8\n",
        "9"
      ]
    },
    {
      "cell_type": "code",
      "source": [
        "# Excercise 5 code:\n",
        "number_of_iteration = 10\n",
        "current_number = 0\n",
        "print_string = ''\n",
        "while(number_of_iteration >= 1):\n",
        "  print_string = ''\n",
        "  for i in range(0, number_of_iteration):\n",
        "   print_string += str(current_number)\n",
        "   print_string += ' '\n",
        "  print(print_string)\n",
        "  current_number += 1\n",
        "  number_of_iteration -= 1"
      ],
      "metadata": {
        "colab": {
          "base_uri": "https://localhost:8080/"
        },
        "id": "svXau0QVo-9u",
        "outputId": "7535b6ec-a3d6-43f2-e9ad-cad2ed4ec530"
      },
      "execution_count": 36,
      "outputs": [
        {
          "output_type": "stream",
          "name": "stdout",
          "text": [
            "0 0 0 0 0 0 0 0 0 0 \n",
            "1 1 1 1 1 1 1 1 1 \n",
            "2 2 2 2 2 2 2 2 \n",
            "3 3 3 3 3 3 3 \n",
            "4 4 4 4 4 4 \n",
            "5 5 5 5 5 \n",
            "6 6 6 6 \n",
            "7 7 7 \n",
            "8 8 \n",
            "9 \n"
          ]
        }
      ]
    }
  ],
  "metadata": {
    "kernelspec": {
      "display_name": "Python 3 (ipykernel)",
      "language": "python",
      "name": "python3"
    },
    "language_info": {
      "codemirror_mode": {
        "name": "ipython",
        "version": 3
      },
      "file_extension": ".py",
      "mimetype": "text/x-python",
      "name": "python",
      "nbconvert_exporter": "python",
      "pygments_lexer": "ipython3",
      "version": "3.8.16"
    },
    "colab": {
      "provenance": []
    }
  },
  "nbformat": 4,
  "nbformat_minor": 0
}