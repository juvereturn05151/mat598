{
  "cells": [
    {
      "cell_type": "markdown",
      "metadata": {
        "id": "TsI7s7RlUXeN"
      },
      "source": [
        "# <b>Credits</b><br>\n",
        "Notebook based on class notes from CS 232 Peter Toth"
      ]
    },
    {
      "cell_type": "markdown",
      "metadata": {
        "id": "y7qsAw-DUXeP"
      },
      "source": [
        "**Python** is an interpreted, high-level, general-purpose programming language that lets you work more quickly and integrate your systems more effectively. Created by Guido van Rossum, first released in 1991."
      ]
    },
    {
      "cell_type": "markdown",
      "metadata": {
        "id": "OlKF1dW1UXeP"
      },
      "source": [
        "**Jupyter Notebook** is an interactive computing environment that enables users to author notebook documents: live code, plots, descriptive text, equations, images, video, etc."
      ]
    },
    {
      "cell_type": "code",
      "source": [],
      "metadata": {
        "id": "53Ujqcel3nLV"
      },
      "execution_count": null,
      "outputs": []
    },
    {
      "cell_type": "markdown",
      "metadata": {
        "id": "SdSpWmoSUXeP"
      },
      "source": [
        "#### References:\n",
        "    www.python.org"
      ]
    },
    {
      "cell_type": "markdown",
      "metadata": {
        "id": "T1pIZ0rXUXeQ"
      },
      "source": [
        "# Just enough Python to get by - Chapter01"
      ]
    },
    {
      "cell_type": "code",
      "source": [],
      "metadata": {
        "id": "e4NakmbHtu9p"
      },
      "execution_count": null,
      "outputs": []
    },
    {
      "cell_type": "markdown",
      "source": [
        "#Basics"
      ],
      "metadata": {
        "id": "zjrOTZYG3X5F"
      }
    },
    {
      "cell_type": "markdown",
      "metadata": {
        "id": "WNi1SWr5UXeQ"
      },
      "source": [
        "#### Hello Dragons!\n",
        "    print() function\n",
        "    Write the usual 'Hello World' program:"
      ]
    },
    {
      "cell_type": "code",
      "execution_count": 29,
      "metadata": {
        "colab": {
          "base_uri": "https://localhost:8080/"
        },
        "id": "wllOHeSKUXeQ",
        "outputId": "0d22d47c-6fe3-4a29-d0f4-714a62017399"
      },
      "outputs": [
        {
          "output_type": "stream",
          "name": "stdout",
          "text": [
            "Hello Dragons!\n"
          ]
        }
      ],
      "source": [
        "print(\"Hello Dragons!\")"
      ]
    },
    {
      "cell_type": "markdown",
      "metadata": {
        "id": "6khXzbnHUXeR"
      },
      "source": [
        "#### Commenting\n",
        "    single line comment\n",
        "    multiline comment\n",
        "    edit text"
      ]
    },
    {
      "cell_type": "code",
      "execution_count": 30,
      "metadata": {
        "colab": {
          "base_uri": "https://localhost:8080/"
        },
        "id": "4oK-d9hFUXeR",
        "outputId": "4533e54e-0bf9-4feb-d673-adb2d9928e1e"
      },
      "outputs": [
        {
          "output_type": "stream",
          "name": "stdout",
          "text": [
            "Hello Dragons!\n",
            "Hello Again!\n",
            "Hello Again, Dragons!\n"
          ]
        }
      ],
      "source": [
        "# this is a comment, this single line won't get executed\n",
        "print(\"Hello Dragons!\")\n",
        "\n",
        "print(\"Hello Again!\")   # this is a comment, nothing gets executed after the # sign\n",
        "\n",
        "''' this is a multiline comment,\n",
        "this section\n",
        "won't be executed\n",
        "until closing it\n",
        "print(\"This is part of a multiline commented section, won't be printed/executed\")\n",
        "'''\n",
        "print(\"Hello Again, Dragons!\")"
      ]
    },
    {
      "cell_type": "markdown",
      "metadata": {
        "id": "Zez1Gn6oUXeR"
      },
      "source": [
        "#### Variables\n",
        "    assign specific values to variable\n",
        "    print values of variables"
      ]
    },
    {
      "cell_type": "code",
      "execution_count": 31,
      "metadata": {
        "colab": {
          "base_uri": "https://localhost:8080/"
        },
        "id": "meBqDCqpUXeR",
        "outputId": "e17ad2a0-8cb9-44eb-edf3-89c76b177bf2"
      },
      "outputs": [
        {
          "output_type": "stream",
          "name": "stdout",
          "text": [
            "2\n",
            "5\n"
          ]
        },
        {
          "output_type": "execute_result",
          "data": {
            "text/plain": [
              "int"
            ]
          },
          "metadata": {},
          "execution_count": 31
        }
      ],
      "source": [
        "# x is a variable, we assign value 2 to x\n",
        "x = 2\n",
        "\n",
        "# y is another value, 3 more than x\n",
        "y = x + 3\n",
        "\n",
        "# print x and y variables\n",
        "print(x)\n",
        "print(y)\n",
        "\n",
        "# call x and y variables\n",
        "x\n",
        "y\n",
        "type(y)\n"
      ]
    },
    {
      "cell_type": "markdown",
      "metadata": {
        "id": "XwegwfWwUXeS"
      },
      "source": [
        "#### Strings\n",
        "    string = a sequence of characters\n",
        "##### Examples:\n",
        "    abc\n",
        "    a\n",
        "    ab*Cd ef4 2g!%xyz\n",
        "    42"
      ]
    },
    {
      "cell_type": "code",
      "execution_count": 32,
      "metadata": {
        "colab": {
          "base_uri": "https://localhost:8080/"
        },
        "id": "AVEJTr72UXeS",
        "outputId": "d6f9280b-8af0-430c-e1fe-120273c10e8e"
      },
      "outputs": [
        {
          "output_type": "stream",
          "name": "stdout",
          "text": [
            "Dragon's lair\n"
          ]
        }
      ],
      "source": [
        "s = \"Dragon's lair\"\n",
        "print(s)"
      ]
    },
    {
      "cell_type": "markdown",
      "metadata": {
        "id": "i2Qb2rfgUXeT"
      },
      "source": [
        "We still have access to string variable s, let's retrieve its length and type:"
      ]
    },
    {
      "cell_type": "code",
      "execution_count": 33,
      "metadata": {
        "colab": {
          "base_uri": "https://localhost:8080/"
        },
        "id": "T_72Xn1YUXeT",
        "outputId": "e4a79459-604a-4484-f012-91f636b7ace3"
      },
      "outputs": [
        {
          "output_type": "stream",
          "name": "stdout",
          "text": [
            "13\n"
          ]
        },
        {
          "output_type": "execute_result",
          "data": {
            "text/plain": [
              "str"
            ]
          },
          "metadata": {},
          "execution_count": 33
        }
      ],
      "source": [
        "print(len(s))\n",
        "type(s)"
      ]
    },
    {
      "cell_type": "markdown",
      "metadata": {
        "id": "dF1FXBdIUXeT"
      },
      "source": [
        "Is space a character? It's a string type!"
      ]
    },
    {
      "cell_type": "code",
      "execution_count": 34,
      "metadata": {
        "colab": {
          "base_uri": "https://localhost:8080/"
        },
        "id": "e0iV8zHIUXeT",
        "outputId": "e3d4f1af-4e6f-4229-c0b6-769a2d221cb3"
      },
      "outputs": [
        {
          "output_type": "execute_result",
          "data": {
            "text/plain": [
              "str"
            ]
          },
          "metadata": {},
          "execution_count": 34
        }
      ],
      "source": [
        "type(' ')"
      ]
    },
    {
      "cell_type": "markdown",
      "metadata": {
        "id": "k60QlLsBUXeU"
      },
      "source": [
        "How about 'nothing'?"
      ]
    },
    {
      "cell_type": "code",
      "execution_count": 35,
      "metadata": {
        "colab": {
          "base_uri": "https://localhost:8080/"
        },
        "id": "FhoO6lhFUXeU",
        "outputId": "998415a3-e6a4-43d9-80cc-34f3c7cfa0e9"
      },
      "outputs": [
        {
          "output_type": "execute_result",
          "data": {
            "text/plain": [
              "str"
            ]
          },
          "metadata": {},
          "execution_count": 35
        }
      ],
      "source": [
        "type('')"
      ]
    },
    {
      "cell_type": "markdown",
      "metadata": {
        "id": "_nN_7VbFUXeU"
      },
      "source": [
        "\"42\" is also a string. It's a sequence of character 4 and character 2\n",
        "\n",
        "42 is a number"
      ]
    },
    {
      "cell_type": "code",
      "execution_count": 36,
      "metadata": {
        "colab": {
          "base_uri": "https://localhost:8080/"
        },
        "id": "Cx_Z9pwhUXeU",
        "outputId": "9c52e7a8-ee1e-4e09-f371-d95d7d798d82"
      },
      "outputs": [
        {
          "output_type": "stream",
          "name": "stdout",
          "text": [
            "42\n",
            "<class 'str'>\n",
            "42\n",
            "<class 'int'>\n"
          ]
        }
      ],
      "source": [
        "s = \"42\"             # or in single quotes: '42'\n",
        "print(s)\n",
        "print(type(s))\n",
        "s = 42\n",
        "print(s)\n",
        "print(type(s))"
      ]
    },
    {
      "cell_type": "markdown",
      "metadata": {
        "id": "L-EdTpyyUXeU"
      },
      "source": [
        "Let's mix numbers and strings:"
      ]
    },
    {
      "cell_type": "code",
      "execution_count": 37,
      "metadata": {
        "colab": {
          "base_uri": "https://localhost:8080/"
        },
        "id": "yQ3BP1OAUXeU",
        "outputId": "dc923acd-a8ce-4e15-83df-bed1e14bc1cd"
      },
      "outputs": [
        {
          "output_type": "stream",
          "name": "stdout",
          "text": [
            "42bc\n",
            "<class 'str'>\n"
          ]
        }
      ],
      "source": [
        "s = \"42bc\"\n",
        "print(s)\n",
        "print(type(s))"
      ]
    },
    {
      "cell_type": "markdown",
      "metadata": {
        "id": "hvvIm4avUXeV"
      },
      "source": [
        "#### Integers are whole numbers:\n",
        "    ... -3, -2, -1, 0, 1, 2, 3, ..."
      ]
    },
    {
      "cell_type": "code",
      "execution_count": 38,
      "metadata": {
        "colab": {
          "base_uri": "https://localhost:8080/"
        },
        "id": "Dr50bpi-UXeV",
        "outputId": "1eb96801-7a5d-4b82-a69d-154f3fc0865f"
      },
      "outputs": [
        {
          "output_type": "stream",
          "name": "stdout",
          "text": [
            "<class 'int'>\n",
            "44\n",
            "84\n",
            "40\n",
            "1764\n",
            "0\n",
            "-42\n"
          ]
        }
      ],
      "source": [
        "myvar = 42\n",
        "print(type(myvar))\n",
        "print(myvar + 2)\n",
        "print(myvar * 2)\n",
        "print(myvar - 2)\n",
        "print(myvar ** 2)\n",
        "print(myvar % 2)\n",
        "print(-myvar)"
      ]
    },
    {
      "cell_type": "markdown",
      "metadata": {
        "id": "ME1b8MR7UXeV"
      },
      "source": [
        "#### Assignment Operator:\n",
        "    =       Important!!! Do not mixup with == which stands for equality comparison operator\n",
        "\n",
        "#### Comparison Operators:\n",
        "    <       less than               a < b\n",
        "    >       greater than            a > b\n",
        "    ==      equal                   a == b\n",
        "    <=      less than or equal      a <= b\n",
        "    >=      greater than or equal   a >= b\n",
        "    !=      not equal               a != b\n",
        "    is      same object             a is b\n",
        "    is not  different object        a is not b"
      ]
    },
    {
      "cell_type": "code",
      "execution_count": 39,
      "metadata": {
        "colab": {
          "base_uri": "https://localhost:8080/"
        },
        "id": "tj-q9LntUXeW",
        "outputId": "ff85d2f8-5326-469b-fc8d-75cde466c68e"
      },
      "outputs": [
        {
          "output_type": "stream",
          "name": "stdout",
          "text": [
            "2\n"
          ]
        }
      ],
      "source": [
        "x = 2\n",
        "print(x)"
      ]
    },
    {
      "cell_type": "code",
      "execution_count": 40,
      "metadata": {
        "colab": {
          "base_uri": "https://localhost:8080/"
        },
        "id": "_7jE_Q8mUXeW",
        "outputId": "3e26692e-8a42-4383-bbc4-12649d0eca16"
      },
      "outputs": [
        {
          "output_type": "execute_result",
          "data": {
            "text/plain": [
              "False"
            ]
          },
          "metadata": {},
          "execution_count": 40
        }
      ],
      "source": [
        "2 + 3 == 4"
      ]
    },
    {
      "cell_type": "code",
      "execution_count": 41,
      "metadata": {
        "colab": {
          "base_uri": "https://localhost:8080/"
        },
        "id": "2KjNYuLJUXeW",
        "outputId": "10896afe-7056-4a2d-871e-c7878290ae0c"
      },
      "outputs": [
        {
          "output_type": "execute_result",
          "data": {
            "text/plain": [
              "True"
            ]
          },
          "metadata": {},
          "execution_count": 41
        }
      ],
      "source": [
        "3 <= 3"
      ]
    },
    {
      "cell_type": "markdown",
      "metadata": {
        "id": "6s2gXW2CUXeW"
      },
      "source": [
        "#### Mathematical Operators:\n",
        "    +       addition          a + b\n",
        "    -       substraction      a - b\n",
        "    *       multiplication    a * b\n",
        "    /       division          a / b\n",
        "    **      exponent          a ** b\n",
        "    %       modulo            a % b\n",
        "    //      floor             a // b\n"
      ]
    },
    {
      "cell_type": "markdown",
      "metadata": {
        "id": "IEOTfvYpUXeb"
      },
      "source": [
        "#### Logical Operators:\n",
        "    &       AND               a & b\n",
        "    |       OR                a | b\n",
        "    ^       XOR               a ^ b"
      ]
    },
    {
      "cell_type": "markdown",
      "metadata": {
        "id": "0d5la-cVUXeb"
      },
      "source": [
        "#### Strings and integers:\n",
        "\n",
        "    Combine strings  with strings\n",
        "    Combine strings  with integers\n",
        "    Combine integers with strings\n",
        "    Combine integers with integers"
      ]
    },
    {
      "cell_type": "markdown",
      "metadata": {
        "id": "1cLv8dMyUXeb"
      },
      "source": [
        "Print a literal string and an integer at the same time:"
      ]
    },
    {
      "cell_type": "code",
      "execution_count": 42,
      "metadata": {
        "colab": {
          "base_uri": "https://localhost:8080/"
        },
        "id": "GGdbDCj7UXeb",
        "outputId": "86e8165f-d238-4608-d398-23ff2cb6df04"
      },
      "outputs": [
        {
          "output_type": "stream",
          "name": "stdout",
          "text": [
            "x = 2\n",
            "y = 3\n",
            "x + y = 5\n"
          ]
        }
      ],
      "source": [
        "print('x = 2')\n",
        "x = 2\n",
        "print('y = 3')\n",
        "y = 3\n",
        "print('x + y =', x + y)"
      ]
    },
    {
      "cell_type": "markdown",
      "metadata": {
        "id": "9n5tbyQaUXec"
      },
      "source": [
        "Printing combined text in two different ways:"
      ]
    },
    {
      "cell_type": "code",
      "execution_count": 43,
      "metadata": {
        "colab": {
          "base_uri": "https://localhost:8080/"
        },
        "id": "HQWwUa2OUXec",
        "outputId": "89b80166-6c67-4645-d9fd-712dd49eb3af"
      },
      "outputs": [
        {
          "output_type": "stream",
          "name": "stdout",
          "text": [
            "a = 'DigiPen'\n",
            "b = 'Dragons'\n",
            "a + b = DigiPen Dragons\n",
            "a , b = DigiPen Dragons\n"
          ]
        }
      ],
      "source": [
        "print(\"a = 'DigiPen'\")\n",
        "a = 'DigiPen'\n",
        "print(\"b = 'Dragons'\")\n",
        "b = 'Dragons'\n",
        "print('a + b =', a + ' ' + b)   # add strings\n",
        "print('a , b =', a, b)          # set of strings"
      ]
    },
    {
      "cell_type": "markdown",
      "metadata": {
        "id": "x_lIk9JiUXec"
      },
      "source": [
        "Convert number to string:"
      ]
    },
    {
      "cell_type": "code",
      "execution_count": 44,
      "metadata": {
        "colab": {
          "base_uri": "https://localhost:8080/"
        },
        "id": "VNOkDDvjUXec",
        "outputId": "7154ee8f-86d9-483c-f914-57e9545c065e"
      },
      "outputs": [
        {
          "output_type": "stream",
          "name": "stdout",
          "text": [
            "DigiPen2\n"
          ]
        }
      ],
      "source": [
        "print(a + str(x))"
      ]
    },
    {
      "cell_type": "markdown",
      "metadata": {
        "id": "wZAb7z6HUXec"
      },
      "source": [
        "Convert string to number:"
      ]
    },
    {
      "cell_type": "code",
      "execution_count": 45,
      "metadata": {
        "colab": {
          "base_uri": "https://localhost:8080/"
        },
        "id": "5B3knIUhUXed",
        "outputId": "bec87b9f-5b6a-4725-abd2-4aba3d08d405"
      },
      "outputs": [
        {
          "output_type": "stream",
          "name": "stdout",
          "text": [
            "7\n",
            "<class 'str'>\n",
            "7\n",
            "<class 'int'>\n"
          ]
        }
      ],
      "source": [
        "a = \"7\"\n",
        "print(a)\n",
        "print(type(a))\n",
        "print(int(a))\n",
        "print(type(int(a)))"
      ]
    },
    {
      "cell_type": "markdown",
      "metadata": {
        "id": "Fow_OQ67UXed"
      },
      "source": [
        "#### Float\n",
        "    - decimal numbers\n",
        "    - range and precision"
      ]
    },
    {
      "cell_type": "code",
      "execution_count": 46,
      "metadata": {
        "colab": {
          "base_uri": "https://localhost:8080/"
        },
        "id": "ppCcf7W3UXed",
        "outputId": "a4602934-214b-4e06-f38d-a1729a11f8dc"
      },
      "outputs": [
        {
          "output_type": "stream",
          "name": "stdout",
          "text": [
            "3.14159265358\n",
            "<class 'float'>\n"
          ]
        }
      ],
      "source": [
        "p = 3.14159265358\n",
        "print(p)\n",
        "print(type(p))"
      ]
    },
    {
      "cell_type": "code",
      "execution_count": 47,
      "metadata": {
        "colab": {
          "base_uri": "https://localhost:8080/"
        },
        "id": "lu47zC9vUXed",
        "outputId": "254302f2-3feb-4a4e-be5b-6c72614af140"
      },
      "outputs": [
        {
          "output_type": "execute_result",
          "data": {
            "text/plain": [
              "float"
            ]
          },
          "metadata": {},
          "execution_count": 47
        }
      ],
      "source": [
        "type(12.345)"
      ]
    },
    {
      "cell_type": "code",
      "execution_count": 48,
      "metadata": {
        "colab": {
          "base_uri": "https://localhost:8080/"
        },
        "id": "4NoBSJoYUXed",
        "outputId": "9640e520-5349-4f1f-9c4e-e5c206c2b968"
      },
      "outputs": [
        {
          "output_type": "stream",
          "name": "stdout",
          "text": [
            "3\n"
          ]
        }
      ],
      "source": [
        "print(int(p))"
      ]
    },
    {
      "cell_type": "markdown",
      "metadata": {
        "id": "_rPaGlyyUXee"
      },
      "source": [
        "#### Errors\n",
        "    - TypeError\n",
        "    - SyntaxError\n",
        "    - NameError\n",
        "    - ZeroDivisionError\n",
        "    - Etc.    "
      ]
    },
    {
      "cell_type": "code",
      "execution_count": 49,
      "metadata": {
        "colab": {
          "base_uri": "https://localhost:8080/",
          "height": 180
        },
        "id": "_21Mid2pUXee",
        "outputId": "53f56d61-8c22-46a8-b38d-7a5728798ab5"
      },
      "outputs": [
        {
          "output_type": "error",
          "ename": "TypeError",
          "evalue": "can only concatenate str (not \"int\") to str",
          "traceback": [
            "\u001b[0;31m---------------------------------------------------------------------------\u001b[0m",
            "\u001b[0;31mTypeError\u001b[0m                                 Traceback (most recent call last)",
            "\u001b[0;32m/tmp/ipython-input-1123049026.py\u001b[0m in \u001b[0;36m<cell line: 0>\u001b[0;34m()\u001b[0m\n\u001b[1;32m      1\u001b[0m \u001b[0ma\u001b[0m \u001b[0;34m=\u001b[0m \u001b[0;34m'abc'\u001b[0m\u001b[0;34m\u001b[0m\u001b[0;34m\u001b[0m\u001b[0m\n\u001b[1;32m      2\u001b[0m \u001b[0mx\u001b[0m \u001b[0;34m=\u001b[0m \u001b[0;36m42\u001b[0m\u001b[0;34m\u001b[0m\u001b[0;34m\u001b[0m\u001b[0m\n\u001b[0;32m----> 3\u001b[0;31m \u001b[0ma\u001b[0m \u001b[0;34m+\u001b[0m \u001b[0mx\u001b[0m\u001b[0;34m\u001b[0m\u001b[0;34m\u001b[0m\u001b[0m\n\u001b[0m",
            "\u001b[0;31mTypeError\u001b[0m: can only concatenate str (not \"int\") to str"
          ]
        }
      ],
      "source": [
        "a = 'abc'\n",
        "x = 42\n",
        "a + x"
      ]
    },
    {
      "cell_type": "code",
      "execution_count": 50,
      "metadata": {
        "colab": {
          "base_uri": "https://localhost:8080/",
          "height": 108
        },
        "id": "6Xxi00hfUXee",
        "outputId": "52a8e16d-71f4-49e2-9054-407515f2d9ce"
      },
      "outputs": [
        {
          "output_type": "error",
          "ename": "SyntaxError",
          "evalue": "incomplete input (ipython-input-2762113399.py, line 1)",
          "traceback": [
            "\u001b[0;36m  File \u001b[0;32m\"/tmp/ipython-input-2762113399.py\"\u001b[0;36m, line \u001b[0;32m1\u001b[0m\n\u001b[0;31m    print(a+x\u001b[0m\n\u001b[0m             ^\u001b[0m\n\u001b[0;31mSyntaxError\u001b[0m\u001b[0;31m:\u001b[0m incomplete input\n"
          ]
        }
      ],
      "source": [
        "print(a+x"
      ]
    },
    {
      "cell_type": "code",
      "execution_count": 51,
      "metadata": {
        "colab": {
          "base_uri": "https://localhost:8080/",
          "height": 144
        },
        "id": "GkwtKAXmUXee",
        "outputId": "0f0261fc-cabe-40a0-8129-d7930303d88f"
      },
      "outputs": [
        {
          "output_type": "error",
          "ename": "NameError",
          "evalue": "name 'pint' is not defined",
          "traceback": [
            "\u001b[0;31m---------------------------------------------------------------------------\u001b[0m",
            "\u001b[0;31mNameError\u001b[0m                                 Traceback (most recent call last)",
            "\u001b[0;32m/tmp/ipython-input-3360285876.py\u001b[0m in \u001b[0;36m<cell line: 0>\u001b[0;34m()\u001b[0m\n\u001b[0;32m----> 1\u001b[0;31m \u001b[0mpint\u001b[0m\u001b[0;34m(\u001b[0m\u001b[0ma\u001b[0m\u001b[0;34m+\u001b[0m\u001b[0mx\u001b[0m\u001b[0;34m)\u001b[0m\u001b[0;34m\u001b[0m\u001b[0;34m\u001b[0m\u001b[0m\n\u001b[0m",
            "\u001b[0;31mNameError\u001b[0m: name 'pint' is not defined"
          ]
        }
      ],
      "source": [
        "pint(a+x)"
      ]
    },
    {
      "cell_type": "code",
      "execution_count": 52,
      "metadata": {
        "colab": {
          "base_uri": "https://localhost:8080/",
          "height": 108
        },
        "id": "Z94U7DrpUXef",
        "outputId": "4de2fdde-0bd3-41fa-894c-c74a0153cb84"
      },
      "outputs": [
        {
          "output_type": "error",
          "ename": "SyntaxError",
          "evalue": "invalid decimal literal (ipython-input-2925536577.py, line 1)",
          "traceback": [
            "\u001b[0;36m  File \u001b[0;32m\"/tmp/ipython-input-2925536577.py\"\u001b[0;36m, line \u001b[0;32m1\u001b[0m\n\u001b[0;31m    42_myvar = 42\u001b[0m\n\u001b[0m      ^\u001b[0m\n\u001b[0;31mSyntaxError\u001b[0m\u001b[0;31m:\u001b[0m invalid decimal literal\n"
          ]
        }
      ],
      "source": [
        "42_myvar = 42"
      ]
    },
    {
      "cell_type": "code",
      "execution_count": 53,
      "metadata": {
        "colab": {
          "base_uri": "https://localhost:8080/",
          "height": 144
        },
        "id": "0WJYHLz3UXef",
        "outputId": "bdbfb260-9503-44e2-c84b-d25fcd1ffaec"
      },
      "outputs": [
        {
          "output_type": "error",
          "ename": "ZeroDivisionError",
          "evalue": "division by zero",
          "traceback": [
            "\u001b[0;31m---------------------------------------------------------------------------\u001b[0m",
            "\u001b[0;31mZeroDivisionError\u001b[0m                         Traceback (most recent call last)",
            "\u001b[0;32m/tmp/ipython-input-3627099327.py\u001b[0m in \u001b[0;36m<cell line: 0>\u001b[0;34m()\u001b[0m\n\u001b[0;32m----> 1\u001b[0;31m \u001b[0;36m2\u001b[0m\u001b[0;34m/\u001b[0m\u001b[0;36m0\u001b[0m\u001b[0;34m\u001b[0m\u001b[0;34m\u001b[0m\u001b[0m\n\u001b[0m",
            "\u001b[0;31mZeroDivisionError\u001b[0m: division by zero"
          ]
        }
      ],
      "source": [
        "2/0"
      ]
    },
    {
      "cell_type": "markdown",
      "metadata": {
        "id": "IGLp_YlqUXef"
      },
      "source": [
        "#### Escape characters:\n",
        "    \\\\    backslash       \\\n",
        "    \n",
        "    \\'    single quote    '\n",
        "    \n",
        "    \\\"    double quote    \"\n",
        "    \n",
        "    \\t    tab             a    b\n",
        "    \n",
        "    \\n    new line        abc\n",
        "                          defgh\n"
      ]
    },
    {
      "cell_type": "code",
      "execution_count": 54,
      "metadata": {
        "colab": {
          "base_uri": "https://localhost:8080/"
        },
        "id": "fy9ITTBtUXef",
        "outputId": "f835c1af-ed4b-48f8-e899-bf6fa011fe6c"
      },
      "outputs": [
        {
          "output_type": "stream",
          "name": "stdout",
          "text": [
            "'\\' is a single backslash\n"
          ]
        }
      ],
      "source": [
        "print(\"'\\\\' is a single backslash\")"
      ]
    },
    {
      "cell_type": "code",
      "execution_count": 55,
      "metadata": {
        "colab": {
          "base_uri": "https://localhost:8080/"
        },
        "id": "yC3wnIymUXef",
        "outputId": "58419fe3-fd4e-4c96-fb62-4b68ec068373"
      },
      "outputs": [
        {
          "output_type": "stream",
          "name": "stdout",
          "text": [
            "single quote: ' \n",
            "double quote: \"\n"
          ]
        }
      ],
      "source": [
        "print(\"single quote: \\' \\ndouble quote: \\\"\")"
      ]
    },
    {
      "cell_type": "markdown",
      "source": [],
      "metadata": {
        "id": "zXEEwNlksifn"
      }
    },
    {
      "cell_type": "markdown",
      "metadata": {
        "id": "ftY47LZwsXL6"
      },
      "source": [
        "# Functions\n",
        "    - Syntax\n",
        "    - Arguments and Default Arguments\n",
        "    - Return value\n",
        "### Syntax:"
      ]
    },
    {
      "cell_type": "raw",
      "metadata": {
        "id": "OQFm-N5nsXL6"
      },
      "source": [
        "\n",
        "\n",
        "```\n",
        "def functionname(param1, param2, ...):\n",
        "    commands\n",
        "\n",
        "```\n",
        "\n"
      ]
    },
    {
      "cell_type": "markdown",
      "metadata": {
        "id": "9WUhvAYBsXL6"
      },
      "source": [
        "#### Functions:"
      ]
    },
    {
      "cell_type": "code",
      "execution_count": 56,
      "metadata": {
        "id": "VcNTdk8XsXL6"
      },
      "outputs": [],
      "source": [
        "def hello():\n",
        "    print(\"Hello Dragons!\")\n",
        "    print(\"Bye now ...\")"
      ]
    },
    {
      "cell_type": "code",
      "execution_count": 57,
      "metadata": {
        "id": "XoO4ZQNCsXL7",
        "outputId": "f56944d1-7ba4-4200-8a8d-2ddad4325f78",
        "colab": {
          "base_uri": "https://localhost:8080/"
        }
      },
      "outputs": [
        {
          "output_type": "stream",
          "name": "stdout",
          "text": [
            "Hello Dragons!\n",
            "Bye now ...\n"
          ]
        }
      ],
      "source": [
        "# call the function hello(), it has no argument(s)\n",
        "hello()"
      ]
    },
    {
      "cell_type": "code",
      "execution_count": 58,
      "metadata": {
        "id": "cI_RZH34sXL7"
      },
      "outputs": [],
      "source": [
        "# create a function to add two numbers\n",
        "def add2(x, y):\n",
        "    print(x + y)"
      ]
    },
    {
      "cell_type": "code",
      "execution_count": 59,
      "metadata": {
        "id": "o_zw4cwKsXL7",
        "outputId": "7efadf8a-61eb-4bdb-f7ed-6c9c18bf0b63",
        "colab": {
          "base_uri": "https://localhost:8080/"
        }
      },
      "outputs": [
        {
          "output_type": "stream",
          "name": "stdout",
          "text": [
            "42\n"
          ]
        }
      ],
      "source": [
        "# call the function add2 providing two integers\n",
        "add2(28,14)"
      ]
    },
    {
      "cell_type": "code",
      "execution_count": 60,
      "metadata": {
        "id": "6tPCznb5sXL8",
        "outputId": "39dee138-3927-45d0-8f02-1b8199f3929c",
        "colab": {
          "base_uri": "https://localhost:8080/"
        }
      },
      "outputs": [
        {
          "output_type": "stream",
          "name": "stdout",
          "text": [
            "42.0\n"
          ]
        }
      ],
      "source": [
        "# call the function add2 providing two floats\n",
        "add2(27.4,14.6)"
      ]
    },
    {
      "cell_type": "code",
      "execution_count": 61,
      "metadata": {
        "id": "Q-jptKCisXL8"
      },
      "outputs": [],
      "source": [
        "# create a function to divide two numbers\n",
        "def div2(x, y):\n",
        "    print(x/y)"
      ]
    },
    {
      "cell_type": "code",
      "execution_count": 62,
      "metadata": {
        "id": "7X2nV6fTsXL8",
        "outputId": "f543aa8a-445a-43ca-8a6a-c665679988b2",
        "colab": {
          "base_uri": "https://localhost:8080/"
        }
      },
      "outputs": [
        {
          "output_type": "stream",
          "name": "stdout",
          "text": [
            "2.0\n"
          ]
        }
      ],
      "source": [
        "div2(10,5)"
      ]
    },
    {
      "cell_type": "markdown",
      "metadata": {
        "id": "kcAXTHucsXL9"
      },
      "source": [
        "### Arguments and Default Argument Values\n",
        "\n",
        "#### Examples:"
      ]
    },
    {
      "cell_type": "code",
      "execution_count": 66,
      "metadata": {
        "id": "Ly9eHdY7sXL9"
      },
      "outputs": [],
      "source": [
        "def big(text = \"hurray!\"):\n",
        "    print(text.upper())"
      ]
    },
    {
      "cell_type": "code",
      "execution_count": 67,
      "metadata": {
        "id": "ski9DM4FsXL9",
        "outputId": "c7164c5c-9cfd-4ab3-d010-9e1106359412",
        "colab": {
          "base_uri": "https://localhost:8080/"
        }
      },
      "outputs": [
        {
          "output_type": "stream",
          "name": "stdout",
          "text": [
            "HURRAY\n"
          ]
        }
      ],
      "source": [
        "big(\"hurray\")"
      ]
    },
    {
      "cell_type": "code",
      "execution_count": 68,
      "metadata": {
        "id": "Ez7sFzHtsXL-",
        "outputId": "46875cdb-479b-4c8f-fbfa-b475f7f3ee8c",
        "colab": {
          "base_uri": "https://localhost:8080/"
        }
      },
      "outputs": [
        {
          "output_type": "stream",
          "name": "stdout",
          "text": [
            "HURRAY!\n"
          ]
        }
      ],
      "source": [
        "big()"
      ]
    },
    {
      "cell_type": "code",
      "execution_count": 69,
      "metadata": {
        "id": "h9_jf7_4sXL-"
      },
      "outputs": [],
      "source": [
        "def add2(x = 10, y = 100):\n",
        "    return x + y"
      ]
    },
    {
      "cell_type": "code",
      "execution_count": 70,
      "metadata": {
        "id": "DikXT72QsXL-",
        "outputId": "8f620999-1567-4b1f-bb69-6a44edd2d978",
        "colab": {
          "base_uri": "https://localhost:8080/"
        }
      },
      "outputs": [
        {
          "output_type": "stream",
          "name": "stdout",
          "text": [
            "11\n",
            "105\n",
            "110\n"
          ]
        }
      ],
      "source": [
        "print(add2(5,6))\n",
        "print(add2(5,))\n",
        "print(add2())"
      ]
    },
    {
      "cell_type": "markdown",
      "metadata": {
        "id": "N4SRhv7esXL-"
      },
      "source": [
        "Notes:\n",
        "* we could supply specific value to x and y takes the default value\n",
        "* the order of the default arguments are important:\n",
        "    * There is no way to supply specific value to y but expect x to take the default value."
      ]
    },
    {
      "cell_type": "code",
      "execution_count": 71,
      "metadata": {
        "id": "DS14skztsXL-",
        "outputId": "fcead726-7ca7-4dc0-e629-69bd9bb6ee75",
        "colab": {
          "base_uri": "https://localhost:8080/"
        }
      },
      "outputs": [
        {
          "output_type": "execute_result",
          "data": {
            "text/plain": [
              "103"
            ]
          },
          "metadata": {},
          "execution_count": 71
        }
      ],
      "source": [
        "add2(3)"
      ]
    },
    {
      "cell_type": "code",
      "execution_count": 72,
      "metadata": {
        "id": "BUoRryIEsXL_",
        "outputId": "4259eade-dd17-41a1-eb23-f1687cd70d88",
        "colab": {
          "base_uri": "https://localhost:8080/",
          "height": 108
        }
      },
      "outputs": [
        {
          "output_type": "error",
          "ename": "SyntaxError",
          "evalue": "invalid syntax (ipython-input-2040789459.py, line 1)",
          "traceback": [
            "\u001b[0;36m  File \u001b[0;32m\"/tmp/ipython-input-2040789459.py\"\u001b[0;36m, line \u001b[0;32m1\u001b[0m\n\u001b[0;31m    add2(,3)\u001b[0m\n\u001b[0m         ^\u001b[0m\n\u001b[0;31mSyntaxError\u001b[0m\u001b[0;31m:\u001b[0m invalid syntax\n"
          ]
        }
      ],
      "source": [
        "add2(,3)"
      ]
    },
    {
      "cell_type": "markdown",
      "metadata": {
        "id": "etGcHATEsXL_"
      },
      "source": [
        "Indeed, this is unexpected syntax"
      ]
    },
    {
      "cell_type": "markdown",
      "metadata": {
        "id": "fhI13kfVsXL_"
      },
      "source": [
        "### Return value"
      ]
    },
    {
      "cell_type": "code",
      "execution_count": 73,
      "metadata": {
        "id": "oYnfCx7vsXL_"
      },
      "outputs": [],
      "source": [
        "def big(text = \"hurray!\"):\n",
        "    print(text.upper())\n",
        "    return \"This text is the return value itself\""
      ]
    },
    {
      "cell_type": "code",
      "execution_count": 74,
      "metadata": {
        "id": "WI1-72SdsXL_",
        "outputId": "f9207de8-601a-420c-ed08-84d33f11722d",
        "colab": {
          "base_uri": "https://localhost:8080/",
          "height": 53
        }
      },
      "outputs": [
        {
          "output_type": "stream",
          "name": "stdout",
          "text": [
            "HURRAY!\n"
          ]
        },
        {
          "output_type": "execute_result",
          "data": {
            "text/plain": [
              "'This text is the return value itself'"
            ],
            "application/vnd.google.colaboratory.intrinsic+json": {
              "type": "string"
            }
          },
          "metadata": {},
          "execution_count": 74
        }
      ],
      "source": [
        "big()"
      ]
    },
    {
      "cell_type": "code",
      "execution_count": 75,
      "metadata": {
        "id": "x3yWRZVOsXL_"
      },
      "outputs": [],
      "source": [
        "def low_case(words_in):\n",
        "    return words_in.lower()"
      ]
    },
    {
      "cell_type": "code",
      "execution_count": 76,
      "metadata": {
        "id": "v5XUYHNasXL_",
        "outputId": "6e800731-746f-46e1-afba-fe96ac1c7ca1",
        "colab": {
          "base_uri": "https://localhost:8080/"
        }
      },
      "outputs": [
        {
          "output_type": "stream",
          "name": "stdout",
          "text": [
            "return this lower\n"
          ]
        }
      ],
      "source": [
        "words_lower = low_case(\"Return THIS lower\")\n",
        "print(words_lower)"
      ]
    },
    {
      "cell_type": "code",
      "execution_count": 77,
      "metadata": {
        "id": "_60oFjPEsXMA",
        "outputId": "46c99f40-6192-4e01-eb50-69f944eeeb25",
        "colab": {
          "base_uri": "https://localhost:8080/",
          "height": 35
        }
      },
      "outputs": [
        {
          "output_type": "execute_result",
          "data": {
            "text/plain": [
              "'digipen'"
            ],
            "application/vnd.google.colaboratory.intrinsic+json": {
              "type": "string"
            }
          },
          "metadata": {},
          "execution_count": 77
        }
      ],
      "source": [
        "low_case(\"DigiPen\")"
      ]
    },
    {
      "cell_type": "markdown",
      "metadata": {
        "id": "NEIfDs5YvJvX"
      },
      "source": [
        "# Conditional Statements\n",
        "\n",
        "- if\n",
        "- if, else\n",
        "- if, elif, else\n",
        "- if, elif, else, pass\n",
        "\n"
      ]
    },
    {
      "cell_type": "markdown",
      "source": [
        "###Conditionals"
      ],
      "metadata": {
        "id": "sjOOG9l80t6e"
      }
    },
    {
      "cell_type": "code",
      "execution_count": 89,
      "metadata": {
        "id": "LpZ-TTn6vJvX",
        "outputId": "9b67f2b4-228d-408d-c80f-cf7d5bb550a0",
        "colab": {
          "base_uri": "https://localhost:8080/"
        }
      },
      "outputs": [
        {
          "output_type": "stream",
          "name": "stdout",
          "text": [
            "Hello\n"
          ]
        }
      ],
      "source": [
        "if True:\n",
        "    print(\"Hello\")"
      ]
    },
    {
      "cell_type": "code",
      "execution_count": 90,
      "metadata": {
        "id": "GfkudWW_vJvY",
        "outputId": "79a33d01-169b-4060-b5c9-308db83d7780",
        "colab": {
          "base_uri": "https://localhost:8080/"
        }
      },
      "outputs": [
        {
          "output_type": "stream",
          "name": "stdout",
          "text": [
            "Hi!\n"
          ]
        }
      ],
      "source": [
        "if not True:\n",
        "    print(\"Hello!\")\n",
        "else:\n",
        "    print(\"Hi!\")"
      ]
    },
    {
      "cell_type": "code",
      "execution_count": 91,
      "metadata": {
        "id": "ft75RWwwvJvY"
      },
      "outputs": [],
      "source": [
        "if True:\n",
        "    pass\n",
        "else:\n",
        "    print(\"The condition must have been 'False'\")"
      ]
    },
    {
      "cell_type": "code",
      "execution_count": 92,
      "metadata": {
        "id": "iNzqx_1VvJvY",
        "outputId": "12350992-9dbb-4978-d71d-33c3b6ab1c30",
        "colab": {
          "base_uri": "https://localhost:8080/"
        }
      },
      "outputs": [
        {
          "output_type": "stream",
          "name": "stdout",
          "text": [
            "The condition must have been 'False'\n"
          ]
        }
      ],
      "source": [
        "if not True:\n",
        "    pass\n",
        "else:\n",
        "    print(\"The condition must have been 'False'\")"
      ]
    },
    {
      "cell_type": "code",
      "execution_count": 93,
      "metadata": {
        "id": "uby7zHnNvJvZ",
        "outputId": "bec4daed-724a-4955-c08b-7390b4a2ad0f",
        "colab": {
          "base_uri": "https://localhost:8080/"
        }
      },
      "outputs": [
        {
          "output_type": "stream",
          "name": "stdout",
          "text": [
            "2 * 2 = 4\n"
          ]
        }
      ],
      "source": [
        "if 2 * 2 == 5:\n",
        "    print(\"2 * 2 = 5\")\n",
        "elif 2 * 2 == 4:\n",
        "    print(\"2 * 2 = 4\")\n",
        "else:\n",
        "    print(\"2 * 2 = not 4 or 5\")"
      ]
    },
    {
      "cell_type": "code",
      "execution_count": 94,
      "metadata": {
        "id": "jQZOJR5TvJvZ",
        "outputId": "e3168465-3601-4a01-b287-0b3a0d981cdc",
        "colab": {
          "base_uri": "https://localhost:8080/"
        }
      },
      "outputs": [
        {
          "output_type": "stream",
          "name": "stdout",
          "text": [
            "Enter a whole number, we'll check its parity: 3\n",
            "3 is odd\n"
          ]
        }
      ],
      "source": [
        "number_input = int(input(\"Enter a whole number, we'll check its parity: \"))\n",
        "if number_input % 2 == 0:\n",
        "    print(number_input, \"is even\")\n",
        "else:\n",
        "    print(number_input, \"is odd\")"
      ]
    },
    {
      "cell_type": "code",
      "execution_count": 95,
      "metadata": {
        "id": "qxAtNoXfvJvZ",
        "outputId": "454bd3ec-c714-4cc3-b2a5-3d5fd253117e",
        "colab": {
          "base_uri": "https://localhost:8080/"
        }
      },
      "outputs": [
        {
          "output_type": "stream",
          "name": "stdout",
          "text": [
            "Enter some text and we'll check on its case: 43\n",
            "43 is all lowercase\n"
          ]
        }
      ],
      "source": [
        "text_input = input(\"Enter some text and we'll check on its case: \")\n",
        "if text_input == text_input.lower():\n",
        "    print(text_input, \"is all lowercase\")\n",
        "else:\n",
        "    print(text_input, \"has non-lowercase character in it\")"
      ]
    },
    {
      "cell_type": "markdown",
      "metadata": {
        "id": "x1dbnN-5vJvZ"
      },
      "source": [
        "### Boolean\n",
        "- True and False are Boolean variables\n",
        "- A conditional statement evaluates to Boolean (either True or False)\n",
        "- True and False also evaluates as 1 and 0"
      ]
    },
    {
      "cell_type": "code",
      "execution_count": 96,
      "metadata": {
        "id": "I9TVGHaBvJva",
        "outputId": "a7e8628c-28ec-4ec1-8d41-59c4ee493948",
        "colab": {
          "base_uri": "https://localhost:8080/"
        }
      },
      "outputs": [
        {
          "output_type": "execute_result",
          "data": {
            "text/plain": [
              "1"
            ]
          },
          "metadata": {},
          "execution_count": 96
        }
      ],
      "source": [
        "True + 0"
      ]
    },
    {
      "cell_type": "code",
      "execution_count": 97,
      "metadata": {
        "id": "0t_PqRm5vJva",
        "outputId": "de2b1c8f-3003-4a2a-de6b-0fd654e253ed",
        "colab": {
          "base_uri": "https://localhost:8080/"
        }
      },
      "outputs": [
        {
          "output_type": "execute_result",
          "data": {
            "text/plain": [
              "0"
            ]
          },
          "metadata": {},
          "execution_count": 97
        }
      ],
      "source": [
        "True * False"
      ]
    },
    {
      "cell_type": "markdown",
      "metadata": {
        "id": "84bqNEHdvJva"
      },
      "source": [
        "### Casting\n",
        "- Conversion from a data type to another\n",
        "- Example 1: str to int\n",
        "- Example 2: int to str\n",
        "- Example 3: float to int\n",
        "- input's output is always a str"
      ]
    },
    {
      "cell_type": "code",
      "execution_count": 98,
      "metadata": {
        "id": "6aWo2NQvvJva",
        "outputId": "0226e85e-5fa4-49b2-ac4e-13e9d1f582c4",
        "colab": {
          "base_uri": "https://localhost:8080/"
        }
      },
      "outputs": [
        {
          "output_type": "stream",
          "name": "stdout",
          "text": [
            "<class 'float'>\n"
          ]
        }
      ],
      "source": [
        "pi = 3.14159265358\n",
        "print(type(pi))"
      ]
    },
    {
      "cell_type": "code",
      "execution_count": 99,
      "metadata": {
        "id": "iWfrAzaMvJva",
        "outputId": "997e589f-fcd7-4a61-e4c2-0c35dd0af41d",
        "colab": {
          "base_uri": "https://localhost:8080/"
        }
      },
      "outputs": [
        {
          "output_type": "stream",
          "name": "stdout",
          "text": [
            "3\n",
            "<class 'int'>\n"
          ]
        }
      ],
      "source": [
        "print(int(pi))\n",
        "print(type(int(pi)))"
      ]
    },
    {
      "cell_type": "code",
      "execution_count": 100,
      "metadata": {
        "id": "aRXKI1BRvJvb",
        "outputId": "7baefa98-b872-45f1-b015-61557f29d763",
        "colab": {
          "base_uri": "https://localhost:8080/"
        }
      },
      "outputs": [
        {
          "output_type": "execute_result",
          "data": {
            "text/plain": [
              "1"
            ]
          },
          "metadata": {},
          "execution_count": 100
        }
      ],
      "source": [
        "int(\"1\")"
      ]
    },
    {
      "cell_type": "code",
      "execution_count": 101,
      "metadata": {
        "id": "3ZejqfftvJvb",
        "outputId": "af02a1b4-2e86-4604-fc42-a4d36bcd6b19",
        "colab": {
          "base_uri": "https://localhost:8080/"
        }
      },
      "outputs": [
        {
          "output_type": "stream",
          "name": "stdout",
          "text": [
            "<class 'str'>\n",
            "<class 'int'>\n"
          ]
        }
      ],
      "source": [
        "print(type(\"1\"))\n",
        "print(type(int(\"1\")))"
      ]
    },
    {
      "cell_type": "code",
      "execution_count": 102,
      "metadata": {
        "id": "-GEu-d8YvJvb",
        "outputId": "19a10706-1f8b-4a01-d461-f7ca411a3861",
        "colab": {
          "base_uri": "https://localhost:8080/",
          "height": 180
        }
      },
      "outputs": [
        {
          "name": "stdout",
          "output_type": "stream",
          "text": [
            "Enter age: 50\n"
          ]
        },
        {
          "output_type": "error",
          "ename": "TypeError",
          "evalue": "can only concatenate str (not \"int\") to str",
          "traceback": [
            "\u001b[0;31m---------------------------------------------------------------------------\u001b[0m",
            "\u001b[0;31mTypeError\u001b[0m                                 Traceback (most recent call last)",
            "\u001b[0;32m/tmp/ipython-input-2157550850.py\u001b[0m in \u001b[0;36m<cell line: 0>\u001b[0;34m()\u001b[0m\n\u001b[1;32m      1\u001b[0m \u001b[0mmy_age\u001b[0m \u001b[0;34m=\u001b[0m \u001b[0minput\u001b[0m\u001b[0;34m(\u001b[0m\u001b[0;34m\"Enter age: \"\u001b[0m\u001b[0;34m)\u001b[0m\u001b[0;34m\u001b[0m\u001b[0;34m\u001b[0m\u001b[0m\n\u001b[0;32m----> 2\u001b[0;31m \u001b[0mprint\u001b[0m\u001b[0;34m(\u001b[0m\u001b[0;34m\"I'll be \"\u001b[0m\u001b[0;34m,\u001b[0m \u001b[0mmy_age\u001b[0m \u001b[0;34m+\u001b[0m \u001b[0;36m10\u001b[0m\u001b[0;34m,\u001b[0m \u001b[0;34m\"in 10 years\"\u001b[0m\u001b[0;34m)\u001b[0m\u001b[0;34m\u001b[0m\u001b[0;34m\u001b[0m\u001b[0m\n\u001b[0m",
            "\u001b[0;31mTypeError\u001b[0m: can only concatenate str (not \"int\") to str"
          ]
        }
      ],
      "source": [
        "my_age = input(\"Enter age: \")\n",
        "print(\"I'll be \", my_age + 10, \"in 10 years\")"
      ]
    },
    {
      "cell_type": "markdown",
      "metadata": {
        "id": "M2y_bNyovJvb"
      },
      "source": [
        "Notice that trying to print: *some text*, *calculated number based on input*, *some text*\n",
        "\n",
        "Lets fix this:"
      ]
    },
    {
      "cell_type": "code",
      "execution_count": 103,
      "metadata": {
        "id": "iM61TkTZvJvb",
        "outputId": "24d14cba-6b8f-48b1-b68e-b1167a5b0f8b",
        "colab": {
          "base_uri": "https://localhost:8080/"
        }
      },
      "outputs": [
        {
          "output_type": "stream",
          "name": "stdout",
          "text": [
            "Enter age: 50\n",
            "I'll be  60 in 10 years\n"
          ]
        }
      ],
      "source": [
        "my_age = input(\"Enter age: \")\n",
        "print(\"I'll be \", int(my_age) + 10, \"in 10 years\")"
      ]
    },
    {
      "cell_type": "markdown",
      "metadata": {
        "id": "Djr6IfEzvJvc"
      },
      "source": [
        "### Nested Conditional Statements"
      ]
    },
    {
      "cell_type": "code",
      "execution_count": 108,
      "metadata": {
        "id": "8UTsKcB2vJvc",
        "outputId": "a6fde7aa-41dc-45d9-dc35-fad4a8d7e110",
        "colab": {
          "base_uri": "https://localhost:8080/"
        }
      },
      "outputs": [
        {
          "name": "stdout",
          "output_type": "stream",
          "text": [
            "Enter a number: 12\n"
          ]
        }
      ],
      "source": [
        "number_multi30 = int(input(\"Enter a number: \"))"
      ]
    },
    {
      "cell_type": "code",
      "execution_count": 109,
      "metadata": {
        "id": "rbPeHsGlvJvc",
        "outputId": "c7da9a1f-5e34-43a5-8fb8-320995d3975a",
        "colab": {
          "base_uri": "https://localhost:8080/"
        }
      },
      "outputs": [
        {
          "output_type": "stream",
          "name": "stdout",
          "text": [
            "12 is even\n",
            "12 is a multiple of 6\n",
            "12 is not a multiple of 30\n"
          ]
        }
      ],
      "source": [
        "if number_multi30 % 2 == 0:\n",
        "    print(number_multi30, \"is even\")\n",
        "    if number_multi30 % 3 == 0:\n",
        "        print(number_multi30, \"is a multiple of 6\")\n",
        "        if number_multi30 % 5 == 0:\n",
        "            print(number_multi30, \"is a multiple of 30\")\n",
        "        else:\n",
        "            print(number_multi30, \"is not a multiple of 30\")\n",
        "    else:\n",
        "        print(number_multi30, \"is not a multiple of 6\")\n",
        "else:\n",
        "    print(number_multi30, \"is odd\")"
      ]
    },
    {
      "cell_type": "markdown",
      "metadata": {
        "id": "2a27C85LvJvc"
      },
      "source": [
        "Try to input other numbers, for example: 12, 13, 30, 36, 120, ..."
      ]
    },
    {
      "cell_type": "markdown",
      "metadata": {
        "id": "M9uCdU1l0XXK"
      },
      "source": [
        "# Loops and Recursion\n",
        "    - While\n",
        "    - For\n",
        "    - Recursion\n",
        "\n"
      ]
    },
    {
      "cell_type": "markdown",
      "source": [
        "#### While Loop\n",
        "    Infinite Loop\n",
        "    break\n",
        "    Syntax\n",
        "    Usage: when we want to repeat something until certain condition is true"
      ],
      "metadata": {
        "id": "qFKI2uFN3Ab6"
      }
    },
    {
      "cell_type": "code",
      "execution_count": null,
      "metadata": {
        "id": "uZ9otRab0XXK",
        "outputId": "3812445f-ae38-408e-f522-f8fdf8cce0ab"
      },
      "outputs": [
        {
          "name": "stdout",
          "output_type": "stream",
          "text": [
            "5\n"
          ]
        }
      ],
      "source": [
        "# this would be an infinite loop without adding a break:\n",
        "while True:\n",
        "    print(5)\n",
        "    break"
      ]
    },
    {
      "cell_type": "code",
      "source": [],
      "metadata": {
        "id": "fvOvvzsq3EfT"
      },
      "execution_count": null,
      "outputs": []
    },
    {
      "cell_type": "code",
      "execution_count": null,
      "metadata": {
        "id": "H1CMCkje0XXL"
      },
      "outputs": [],
      "source": [
        "mynumber = 16"
      ]
    },
    {
      "cell_type": "code",
      "execution_count": null,
      "metadata": {
        "id": "oo-PaxCr0XXL",
        "outputId": "dd6628bb-00f3-4ec7-baf6-daed605dc6a1"
      },
      "outputs": [
        {
          "name": "stdout",
          "output_type": "stream",
          "text": [
            "16\n",
            "15\n",
            "14\n",
            "13\n",
            "12\n",
            "11\n",
            "10\n"
          ]
        }
      ],
      "source": [
        "while mynumber >= 10:\n",
        "    print(mynumber)\n",
        "    mynumber -= 1"
      ]
    },
    {
      "cell_type": "code",
      "execution_count": null,
      "metadata": {
        "id": "lSjAsuEX0XXM",
        "outputId": "ac55d3b0-dea9-4646-83ed-911d2d7ea8d7"
      },
      "outputs": [
        {
          "name": "stdout",
          "output_type": "stream",
          "text": [
            "Enter a non-negative whole number: 4\n",
            "4\n",
            "Enter a non-negative whole number: 10\n",
            "10\n",
            "Enter a non-negative whole number: 55\n",
            "55\n",
            "Enter a non-negative whole number: 42\n",
            "42\n",
            "Enter a non-negative whole number: -2.57\n",
            "You have not entered a non-negative whole number, it's over!\n"
          ]
        }
      ],
      "source": [
        "# take input until it consist of digits only, breaks when if condition does not evaluate to True\n",
        "while True:\n",
        "    mydigit = input(\"Enter a non-negative whole number: \")\n",
        "    if mydigit.isdigit():\n",
        "        print(mydigit)\n",
        "    else:\n",
        "        print(\"You have not entered a non-negative whole number, it's over!\")\n",
        "        break"
      ]
    },
    {
      "cell_type": "markdown",
      "metadata": {
        "id": "y5RMwP1w0XXM"
      },
      "source": [
        "#### For Loop\n",
        "    break\n",
        "    Syntax\n",
        "    Usage: when we want to repeat something a fixed number of times\n",
        "#### Syntax:"
      ]
    },
    {
      "cell_type": "raw",
      "metadata": {
        "id": "8LoGoEmk0XXM"
      },
      "source": [
        "for i in range(n):\n",
        "    commands\n",
        "\n",
        "More generally:\n",
        "for value in collection:\n",
        "    commands"
      ]
    },
    {
      "cell_type": "code",
      "execution_count": null,
      "metadata": {
        "id": "XJS5n0Fj0XXM",
        "outputId": "72ad6e56-24b0-443d-fb6e-23c9aab2abc7"
      },
      "outputs": [
        {
          "name": "stdout",
          "output_type": "stream",
          "text": [
            "0\n",
            "1\n",
            "2\n",
            "3\n"
          ]
        }
      ],
      "source": [
        "n = 4\n",
        "for i in range(n):\n",
        "    print(i)"
      ]
    },
    {
      "cell_type": "code",
      "execution_count": null,
      "metadata": {
        "id": "xYuKVv9C0XXN",
        "outputId": "f17f4d4f-0a47-44dd-d536-9638925f71ae"
      },
      "outputs": [
        {
          "name": "stdout",
          "output_type": "stream",
          "text": [
            "2\n",
            "3\n",
            "4\n"
          ]
        }
      ],
      "source": [
        "for i in range(2,5):\n",
        "    print(i)"
      ]
    },
    {
      "cell_type": "code",
      "execution_count": null,
      "metadata": {
        "id": "k-k60_AR0XXN",
        "outputId": "7388edb4-60bd-4a68-b537-ec6e803c2303"
      },
      "outputs": [
        {
          "name": "stdout",
          "output_type": "stream",
          "text": [
            "D\n",
            "i\n",
            "g\n",
            "i\n",
            "P\n",
            "e\n",
            "n\n"
          ]
        }
      ],
      "source": [
        "for i in \"DigiPen\":\n",
        "    print(i)"
      ]
    },
    {
      "cell_type": "markdown",
      "metadata": {
        "id": "S_ZMfQSd0XXN"
      },
      "source": [
        "\n",
        "Gregory-Leibniz series:\n",
        "π = (4/1) - (4/3) + (4/5) - (4/7) + (4/9) - (4/11) + (4/13) - (4/15) + ..."
      ]
    },
    {
      "cell_type": "code",
      "execution_count": null,
      "metadata": {
        "id": "EVVyKhlD0XXN",
        "outputId": "8102a0e2-9a38-4995-ac13-0e22983d4173"
      },
      "outputs": [
        {
          "name": "stdout",
          "output_type": "stream",
          "text": [
            "3.1415916535897743\n"
          ]
        }
      ],
      "source": [
        "mypi = 0\n",
        "myrange = 100000\n",
        "for i in range(10 * myrange):\n",
        "    if (i % 2 == 0):\n",
        "        #print(4*(1/(2*i+1)))\n",
        "        mypi += 4*(1/(2*i+1))\n",
        "    else:\n",
        "        #print(-4*(1/(2*i+1)))\n",
        "        mypi += -4*(1/(2*i+1))\n",
        "# example for inefficient but working conditon\n",
        "#    if (int(str(i)[0]) == 1):\n",
        "#        if i - (10 ** (len(str(i))-1)) == 0:\n",
        "#            print(mypi)\n",
        "\n",
        "print(mypi)"
      ]
    },
    {
      "cell_type": "markdown",
      "metadata": {
        "id": "VZuPVUbj0XXN"
      },
      "source": [
        "The commented section at the end showcases type casting back and forth between integer and string types. Printing interim values at every power of ten."
      ]
    },
    {
      "cell_type": "markdown",
      "metadata": {
        "id": "FpdjeSLv0XXO"
      },
      "source": [
        "#### Recursion\n",
        "    Recusrsive function: a function being defined is applied within its own definition.\n",
        "#### Example:\n",
        "Fibonacci series up to n (from https://www.python.org/)\n",
        "\n",
        "Recursive: F₀=0, F₁=1, and Fₙ=Fₙ₋₁+Fₙ₋₂, for n > 1\n",
        "\n",
        "    n      0 1 2 3 4 5 6  7  8  9 10 11  12 ...\n",
        "    F(n)   0 1 1 2 3 5 8 13 21 34 55 89 144 ..."
      ]
    },
    {
      "cell_type": "code",
      "execution_count": null,
      "metadata": {
        "id": "IRtxTihN0XXO",
        "outputId": "aa222a7c-6f9a-4cc3-f6eb-bfa66dd31201"
      },
      "outputs": [
        {
          "name": "stdout",
          "output_type": "stream",
          "text": [
            "0 1 1 2 3 5 8 13 21 34 55 89 144 233 377 610 987 \n"
          ]
        }
      ],
      "source": [
        "# Fibonacci series up to m\n",
        "def fib(m):\n",
        "    a, b = 0, 1\n",
        "    while a < m:\n",
        "        print(a, end = ' ')\n",
        "        a, b = b, a + b\n",
        "    print()\n",
        "fib(1000)"
      ]
    },
    {
      "cell_type": "markdown",
      "metadata": {
        "id": "6BezXs630XXO"
      },
      "source": [
        "\n",
        "Factorial of n: n!\n",
        "\n",
        "Recursive: n! = n * (n-1)!\n",
        "\n",
        "    n     0 1   2       3         4            5     ...\n",
        "    n!    1 1 1*2=2 1*2*3=6 1*2*3*4=24 1*2*3*4*5=120 ..."
      ]
    },
    {
      "cell_type": "code",
      "execution_count": 111,
      "metadata": {
        "id": "CuRicEkO0XXO"
      },
      "outputs": [],
      "source": [
        "def factorial(n):\n",
        "    if n == 0:\n",
        "        return 1\n",
        "    else:\n",
        "        return n * factorial(n - 1)"
      ]
    },
    {
      "cell_type": "code",
      "execution_count": 116,
      "metadata": {
        "id": "zG7bG0Yf0XXO",
        "outputId": "635cf208-27b9-4011-d800-53a0eb677e4e",
        "colab": {
          "base_uri": "https://localhost:8080/"
        }
      },
      "outputs": [
        {
          "output_type": "stream",
          "name": "stdout",
          "text": [
            "1\n",
            "24\n",
            "120\n",
            "3628800\n",
            "93326215443944152681699238856266700490715968264381621468592963895217599993229915608941463976156518286253697920827223758251185210916864000000000000000000000000\n"
          ]
        }
      ],
      "source": [
        "print(factorial(0))\n",
        "print(factorial(4))\n",
        "print(factorial(5))\n",
        "print(factorial(10))\n",
        "print(factorial(100))"
      ]
    }
  ],
  "metadata": {
    "kernelspec": {
      "display_name": "Python 3",
      "language": "python",
      "name": "python3"
    },
    "language_info": {
      "codemirror_mode": {
        "name": "ipython",
        "version": 3
      },
      "file_extension": ".py",
      "mimetype": "text/x-python",
      "name": "python",
      "nbconvert_exporter": "python",
      "pygments_lexer": "ipython3",
      "version": "3.7.1"
    },
    "colab": {
      "provenance": [],
      "toc_visible": true
    }
  },
  "nbformat": 4,
  "nbformat_minor": 0
}