{
  "nbformat": 4,
  "nbformat_minor": 0,
  "metadata": {
    "colab": {
      "provenance": []
    },
    "kernelspec": {
      "name": "python3",
      "display_name": "Python 3"
    },
    "language_info": {
      "name": "python"
    }
  },
  "cells": [
    {
      "cell_type": "markdown",
      "source": [
        "#Homework 2 (Numpy, Matplotlib and Metrics)}\n",
        "\n",
        "1.   Explore the posted file matrix\\_A.csv. Submit your code and solution as a jupiter notebook.\n",
        "*   Load the matrix stored in the file into a numpy array\n",
        "*   Load the first column into an array $x$ and second column into an\n",
        "array y. What are the shapes of the two vectors?\n",
        "*   Calculate the element-wise product and dot product of the two vectors.\n",
        "*   Reshape $x$ into a column vector and $y$ into a row vector and calculate\n",
        "their product. What is the shape of the result?\n",
        "*   Visualize a scatterplot of the data in the $x-y$ plane.\n",
        "* Visualize histograms of $x$ and $y$.\n",
        "* Calculate mean and standard deviations of $x$ and $y$.\n",
        "* Visualize a box plot for the given data.\n",
        "* Assuming that we know that the model that relates $x$ and $y$ is\n",
        "$y_{pred}=2x+5$ calculate the predicted values and compare it with\n",
        "$y$ by calculating MSE, MAE, and RMSE.\n",
        "\n",
        "2.   Consider the one-hot encoded output of a classification problem with\n",
        "5 classes: $obs=[0,1,0,0,0]$. Your system predicts the classification\n",
        "probabilities $pred_{1}=[0.05,0.9,0.05,0,0].$ Calculate the categorical\n",
        "cross-entropy for the given output. Consider now the prediction of\n",
        "$pred_{2}=[0,0.05,0.9,0.05,0]$ and calculate the categorical cross\n",
        "entropy for this case and compare it with the previous values.\n",
        "\n",
        "3. A small e-commerce company uses a machine learning model to detect fraudulent transactions. The model classifies a transaction as either \"Fraud\" or \"Not Fraud.\" The company has a dataset of 1000 recent transactions.\n",
        "After running the model, the data was manually reviewed and the following results were gathered:\n",
        "The model predicted 50 transactions as fraudulent.\n",
        "Of those 50 predicted fraudulent transactions, 20 were actually fraudulent.\n",
        "The model predicted 950 transactions as not fraudulent.\n",
        "Of the 950 predicted non-fraudulent transactions, 940 were actually non-fraudulent.\n",
        "* Organize these results into a confusion matrix. Then, use the matrix to calculate the following metrics for the model's performance\n",
        "* Calculate Accuracy, Precision and Recall\n",
        "* Interpret the results. Does the current model serve its purpose?"
      ],
      "metadata": {
        "id": "1PiONxcE5ITN"
      }
    },
    {
      "cell_type": "code",
      "execution_count": null,
      "metadata": {
        "id": "FaGotgRX4sRN"
      },
      "outputs": [],
      "source": []
    }
  ]
}