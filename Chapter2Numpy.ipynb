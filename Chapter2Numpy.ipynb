{
  "nbformat": 4,
  "nbformat_minor": 0,
  "metadata": {
    "colab": {
      "provenance": []
    },
    "kernelspec": {
      "name": "python3",
      "display_name": "Python 3"
    },
    "language_info": {
      "name": "python"
    }
  },
  "cells": [
    {
      "cell_type": "markdown",
      "source": [
        "#Chapter 2 Numpy"
      ],
      "metadata": {
        "id": "zKUvgnbGD51_"
      }
    },
    {
      "cell_type": "markdown",
      "metadata": {
        "id": "1d388761"
      },
      "source": [
        "Let's start with creating NumPy arrays."
      ]
    },
    {
      "cell_type": "code",
      "metadata": {
        "colab": {
          "base_uri": "https://localhost:8080/"
        },
        "id": "ac0d1425",
        "outputId": "81a314b9-67f7-491e-8176-63784cd3e263"
      },
      "source": [
        "import numpy as np\n",
        "\n",
        "# Creating a 1D array\n",
        "arr1 = np.array([1, 2, 3, 4, 5])\n",
        "print(\"1D Array:\", arr1)\n",
        "\n",
        "# Creating a 2D array\n",
        "arr2 = np.array([[1, 2, 3], [4, 5, 6]])\n",
        "print(\"\\n2D Array:\\n\", arr2)\n",
        "\n",
        "# Creating an array of zeros\n",
        "zeros_arr = np.zeros((2, 3))\n",
        "print(\"\\nArray of zeros:\\n\", zeros_arr)\n",
        "\n",
        "# Creating an array of ones\n",
        "ones_arr = np.ones((3, 2))\n",
        "print(\"\\nArray of ones:\\n\", ones_arr)\n",
        "\n",
        "# Creating an identity matrix\n",
        "identity_matrix = np.eye(3)\n",
        "print(\"\\nIdentity matrix:\\n\", identity_matrix)"
      ],
      "execution_count": 7,
      "outputs": [
        {
          "output_type": "stream",
          "name": "stdout",
          "text": [
            "1D Array: [1 2 3 4 5]\n",
            "\n",
            "2D Array:\n",
            " [[1 2 3]\n",
            " [4 5 6]]\n",
            "\n",
            "Array of zeros:\n",
            " [[0. 0. 0.]\n",
            " [0. 0. 0.]]\n",
            "\n",
            "Array of ones:\n",
            " [[1. 1.]\n",
            " [1. 1.]\n",
            " [1. 1.]]\n",
            "\n",
            "Identity matrix:\n",
            " [[1. 0. 0.]\n",
            " [0. 1. 0.]\n",
            " [0. 0. 1.]]\n"
          ]
        }
      ]
    },
    {
      "cell_type": "markdown",
      "metadata": {
        "id": "944bd11c"
      },
      "source": [
        "Now let's look at some basic array operations."
      ]
    },
    {
      "cell_type": "code",
      "metadata": {
        "colab": {
          "base_uri": "https://localhost:8080/"
        },
        "id": "4e8a8223",
        "outputId": "9699175a-a286-4588-f751-62c8a16220e9"
      },
      "source": [
        "# Basic arithmetic operations\n",
        "arr = np.array([10, 20, 30, 40])\n",
        "print(\"Original array:\", arr)\n",
        "print(\"Array + 5:\", arr + 5)\n",
        "print(\"Array * 2:\", arr * 2)\n",
        "print(\"Array squared:\", arr**2)\n",
        "\n",
        "# Element-wise operations\n",
        "arr_a = np.array([1, 2, 3])\n",
        "arr_b = np.array([4, 5, 6])\n",
        "print(\"\\nArray a:\", arr_a)\n",
        "print(\"Array b:\", arr_b)\n",
        "print(\"a + b:\", arr_a + arr_b)\n",
        "print(\"a * b:\", arr_a * arr_b)"
      ],
      "execution_count": 8,
      "outputs": [
        {
          "output_type": "stream",
          "name": "stdout",
          "text": [
            "Original array: [10 20 30 40]\n",
            "Array + 5: [15 25 35 45]\n",
            "Array * 2: [20 40 60 80]\n",
            "Array squared: [ 100  400  900 1600]\n",
            "\n",
            "Array a: [1 2 3]\n",
            "Array b: [4 5 6]\n",
            "a + b: [5 7 9]\n",
            "a * b: [ 4 10 18]\n"
          ]
        }
      ]
    },
    {
      "cell_type": "markdown",
      "metadata": {
        "id": "32af0257"
      },
      "source": [
        "Indexing and slicing in NumPy."
      ]
    },
    {
      "cell_type": "code",
      "metadata": {
        "colab": {
          "base_uri": "https://localhost:8080/"
        },
        "id": "8c8bcfd6",
        "outputId": "a027590f-6efe-4a25-b0bd-4823bbb9799c"
      },
      "source": [
        "arr = np.array([1, 2, 3, 4, 5, 6, 7, 8, 9, 10])\n",
        "print(\"Original array:\", arr)\n",
        "\n",
        "# Accessing elements\n",
        "print(\"First element:\", arr[0])\n",
        "print(\"Last element:\", arr[-1])\n",
        "\n",
        "# Slicing arr[start:stop:step]\n",
        "print(\"Elements from index 2 to 5:\", arr[2:6])\n",
        "print(\"Elements from beginning to index 4:\", arr[:5])\n",
        "print(\"Elements from index 5 to the end:\", arr[5:])\n",
        "print(\"Every other element:\", arr[::2])\n",
        "\n",
        "# Indexing in 2D arrays\n",
        "arr_2d = np.array([[1, 2, 3], [4, 5, 6], [7, 8, 9]])\n",
        "print(\"\\n2D Array:\\n\", arr_2d)\n",
        "print(\"Element at row 1, column 2:\", arr_2d[1, 2])\n",
        "print(\"First row:\", arr_2d[0, :])\n",
        "print(\"Third column:\", arr_2d[:, 2])"
      ],
      "execution_count": 9,
      "outputs": [
        {
          "output_type": "stream",
          "name": "stdout",
          "text": [
            "Original array: [ 1  2  3  4  5  6  7  8  9 10]\n",
            "First element: 1\n",
            "Last element: 10\n",
            "Elements from index 2 to 5: [3 4 5 6]\n",
            "Elements from beginning to index 4: [1 2 3 4 5]\n",
            "Elements from index 5 to the end: [ 6  7  8  9 10]\n",
            "Every other element: [1 3 5 7 9]\n",
            "\n",
            "2D Array:\n",
            " [[1 2 3]\n",
            " [4 5 6]\n",
            " [7 8 9]]\n",
            "Element at row 1, column 2: 6\n",
            "First row: [1 2 3]\n",
            "Third column: [3 6 9]\n"
          ]
        }
      ]
    },
    {
      "cell_type": "markdown",
      "metadata": {
        "id": "993d919a"
      },
      "source": [
        "Shape manipulation and data types."
      ]
    },
    {
      "cell_type": "code",
      "metadata": {
        "colab": {
          "base_uri": "https://localhost:8080/"
        },
        "id": "36ced868",
        "outputId": "7f459781-f24b-4e56-912c-214aa33e2eeb"
      },
      "source": [
        "arr = np.array([[1, 2, 3], [4, 5, 6]])\n",
        "print(\"Original array:\\n\", arr)\n",
        "print(\"Shape:\", arr.shape)\n",
        "\n",
        "# Reshaping the array\n",
        "reshaped_arr = arr.reshape(3, 2)\n",
        "print(\"\\nReshaped array:\\n\", reshaped_arr)\n",
        "print(\"New shape:\", reshaped_arr.shape)\n",
        "\n",
        "# Transposing the array\n",
        "transposed_arr = arr.T\n",
        "print(\"\\nTransposed array:\\n\", transposed_arr)\n",
        "print(\"Transposed shape:\", transposed_arr.shape)\n",
        "\n",
        "# Data types\n",
        "print(\"\\nData type of the array:\", arr.dtype)\n",
        "\n",
        "# Changing data type\n",
        "float_arr = arr.astype(np.float64)\n",
        "print(\"\\nArray with float data type:\\n\", float_arr)\n",
        "print(\"New data type:\", float_arr.dtype)"
      ],
      "execution_count": 10,
      "outputs": [
        {
          "output_type": "stream",
          "name": "stdout",
          "text": [
            "Original array:\n",
            " [[1 2 3]\n",
            " [4 5 6]]\n",
            "Shape: (2, 3)\n",
            "\n",
            "Reshaped array:\n",
            " [[1 2]\n",
            " [3 4]\n",
            " [5 6]]\n",
            "New shape: (3, 2)\n",
            "\n",
            "Transposed array:\n",
            " [[1 4]\n",
            " [2 5]\n",
            " [3 6]]\n",
            "Transposed shape: (3, 2)\n",
            "\n",
            "Data type of the array: int64\n",
            "\n",
            "Array with float data type:\n",
            " [[1. 2. 3.]\n",
            " [4. 5. 6.]]\n",
            "New data type: float64\n"
          ]
        }
      ]
    },
    {
      "cell_type": "markdown",
      "metadata": {
        "id": "e963765b"
      },
      "source": [
        "Mathematical and statistical functions."
      ]
    },
    {
      "cell_type": "code",
      "metadata": {
        "colab": {
          "base_uri": "https://localhost:8080/"
        },
        "id": "c518d01e",
        "outputId": "a318230a-6e0f-41ca-e0a3-72babc5c96dd"
      },
      "source": [
        "arr = np.array([1, 2, 3, 4, 5, 6, 7, 8, 9, 10])\n",
        "print(\"Original array:\", arr)\n",
        "\n",
        "# Sum of elements\n",
        "print(\"Sum of elements:\", np.sum(arr))\n",
        "\n",
        "# Mean of elements\n",
        "print(\"Mean of elements:\", np.mean(arr))\n",
        "\n",
        "# Standard deviation\n",
        "print(\"Standard deviation:\", np.std(arr))\n",
        "\n",
        "# Maximum and minimum elements\n",
        "print(\"Maximum element:\", np.max(arr))\n",
        "print(\"Minimum element:\", np.min(arr))\n"
      ],
      "execution_count": 11,
      "outputs": [
        {
          "output_type": "stream",
          "name": "stdout",
          "text": [
            "Original array: [ 1  2  3  4  5  6  7  8  9 10]\n",
            "Sum of elements: 55\n",
            "Mean of elements: 5.5\n",
            "Standard deviation: 2.8722813232690143\n",
            "Maximum element: 10\n",
            "Minimum element: 1\n"
          ]
        }
      ]
    },
    {
      "cell_type": "markdown",
      "source": [
        "Linear Algebra"
      ],
      "metadata": {
        "id": "BAaITimri8GT"
      }
    },
    {
      "cell_type": "code",
      "source": [
        "# Matrix multiplication\n",
        "matrix_a = np.array([[1, 2], [3, 4]])\n",
        "matrix_b = np.array([[5, 6], [7, 8]])\n",
        "matrix_product = np.dot(matrix_a, matrix_b)\n",
        "matrix_product2 = matrix_a @ matrix_b\n",
        "print(\"Matrix A:\\n\", matrix_a)\n",
        "print(\"\\nMatrix B:\\n\", matrix_b)\n",
        "print(\"\\nMatrix product (A * B):\\n\", matrix_product)\n",
        "print(\"\\nAnother way to calculate matrix product (A * B):\\n\", matrix_product2)\n",
        "\n",
        "# Element-wise multiplication (Hadamard product)\n",
        "element_wise_product = matrix_a * matrix_b\n",
        "print(\"\\nElement-wise product (A * B):\\n\", element_wise_product)\n",
        "\n",
        "# Transpose of a matrix\n",
        "transposed_matrix_a = matrix_a.T\n",
        "print(\"\\nTranspose of Matrix A:\\n\", transposed_matrix_a)\n",
        "\n",
        "# Inverse of a matrix\n",
        "try:\n",
        "    inverse_matrix_a = np.linalg.inv(matrix_a)\n",
        "    print(\"\\nInverse of Matrix A:\\n\", inverse_matrix_a)\n",
        "except np.linalg.LinAlgError:\n",
        "    print(\"\\nMatrix A is singular and does not have an inverse.\")\n",
        "\n",
        "# Determinant of a matrix\n",
        "determinant_matrix_a = np.linalg.det(matrix_a)\n",
        "print(\"\\nDeterminant of Matrix A:\", determinant_matrix_a)"
      ],
      "metadata": {
        "colab": {
          "base_uri": "https://localhost:8080/"
        },
        "id": "Bd0j5EbERCe-",
        "outputId": "986a2c88-b2bc-466f-9173-e658be7ff3e6"
      },
      "execution_count": 12,
      "outputs": [
        {
          "output_type": "stream",
          "name": "stdout",
          "text": [
            "Matrix A:\n",
            " [[1 2]\n",
            " [3 4]]\n",
            "\n",
            "Matrix B:\n",
            " [[5 6]\n",
            " [7 8]]\n",
            "\n",
            "Matrix product (A * B):\n",
            " [[19 22]\n",
            " [43 50]]\n",
            "\n",
            "Another way to calculate matrix product (A * B):\n",
            " [[19 22]\n",
            " [43 50]]\n",
            "\n",
            "Element-wise product (A * B):\n",
            " [[ 5 12]\n",
            " [21 32]]\n",
            "\n",
            "Transpose of Matrix A:\n",
            " [[1 3]\n",
            " [2 4]]\n",
            "\n",
            "Inverse of Matrix A:\n",
            " [[-2.   1. ]\n",
            " [ 1.5 -0.5]]\n",
            "\n",
            "Determinant of Matrix A: -2.0000000000000004\n"
          ]
        }
      ]
    }
  ]
}